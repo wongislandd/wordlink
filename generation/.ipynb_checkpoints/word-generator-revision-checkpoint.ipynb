{
 "cells": [
  {
   "cell_type": "code",
   "execution_count": null,
   "id": "dc8b36a2-cd49-446f-a19f-173a6bd74ac5",
   "metadata": {},
   "outputs": [],
   "source": [
    "%load_ext autoreload\n",
    "%autoreload 2\n",
    "\n",
    "# import modules & set up logging\n",
    "import warnings\n",
    "import gensim\n",
    "from dotenv import load_dotenv\n",
    "import importlib\n",
    "from gensim.models.keyedvectors import KeyedVectors\n",
    "import logging\n",
    "\n",
    "load_dotenv()\n",
    "\n",
    "warnings.filterwarnings(action='ignore', category=UserWarning, module='gensim')\n",
    "logging.basicConfig(format='%(asctime)s : %(levelname)s : %(message)s', level=logging.INFO)\n",
    "logger = logging.getLogger()"
   ]
  },
  {
   "cell_type": "code",
   "execution_count": null,
   "id": "5f82aac1-4445-445a-857a-0d5681dabe61",
   "metadata": {},
   "outputs": [],
   "source": [
    "# Setup the model\n",
    "path = './models/model.bin.gz'\n",
    "model = KeyedVectors.load_word2vec_format(path, binary=True)"
   ]
  },
  {
   "cell_type": "code",
   "execution_count": null,
   "id": "b6c5de1d-7a6e-46b6-bac4-9c4a987cccdd",
   "metadata": {},
   "outputs": [],
   "source": [
    "# CONFIG -- Define the target word and number of results\n",
    "targetWord = \"park\"\n",
    "\n",
    "# Number of associations to try and get for each\n",
    "numResults = 10"
   ]
  },
  {
   "cell_type": "code",
   "execution_count": null,
   "id": "1910bd9e-247b-40ed-b2ae-73badc304339",
   "metadata": {},
   "outputs": [],
   "source": [
    "# Get initial similarity results\n",
    "similarityResults=model.most_similar(targetWord,topn=numResults)\n",
    "print(similarityResults)"
   ]
  },
  {
   "cell_type": "code",
   "execution_count": null,
   "id": "b019c257-1ce3-4fc8-b268-803a640f870d",
   "metadata": {},
   "outputs": [],
   "source": [
    "# Clean and format the results before writing to a file\n",
    "from formatter-revision import formatResults\n",
    "from resultwriter import write_results"
   ]
  },
  {
   "cell_type": "code",
   "execution_count": null,
   "id": "5730ca9f-b899-40b0-995d-b49b08c73d86",
   "metadata": {},
   "outputs": [],
   "source": [
    "formatResults(targetWord, similarityResults, model, logger"
   ]
  }
 ],
 "metadata": {
  "kernelspec": {
   "display_name": "Python 3 (ipykernel)",
   "language": "python",
   "name": "python3"
  },
  "language_info": {
   "codemirror_mode": {
    "name": "ipython",
    "version": 3
   },
   "file_extension": ".py",
   "mimetype": "text/x-python",
   "name": "python",
   "nbconvert_exporter": "python",
   "pygments_lexer": "ipython3",
   "version": "3.10.12"
  }
 },
 "nbformat": 4,
 "nbformat_minor": 5
}
