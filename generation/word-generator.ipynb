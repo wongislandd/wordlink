{
 "cells": [
  {
   "cell_type": "code",
   "execution_count": 2,
   "id": "initial_id",
   "metadata": {
    "ExecuteTime": {
     "end_time": "2024-03-05T04:18:11.963109Z",
     "start_time": "2024-03-05T04:18:11.958979Z"
    }
   },
   "outputs": [],
   "source": [
    "# import modules & set up logging\n",
    "import warnings\n",
    "import gensim\n",
    "from dotenv import load_dotenv\n",
    "import importlib\n",
    "\n",
    "load_dotenv()\n",
    "\n",
    "warnings.filterwarnings(action='ignore', category=UserWarning, module='gensim')\n",
    "\n",
    "from gensim.models.keyedvectors import KeyedVectors\n",
    "\n",
    "import logging\n",
    "logging.basicConfig(format='%(asctime)s : %(levelname)s : %(message)s', level=logging.INFO)"
   ]
  },
  {
   "cell_type": "code",
   "execution_count": 3,
   "id": "62936ab3980f8dfe",
   "metadata": {
    "ExecuteTime": {
     "end_time": "2024-03-05T04:18:55.756934Z",
     "start_time": "2024-03-05T04:18:12.054621Z"
    },
    "collapsed": false,
    "jupyter": {
     "outputs_hidden": false
    }
   },
   "outputs": [
    {
     "name": "stderr",
     "output_type": "stream",
     "text": [
      "2024-04-10 22:21:06,428 : INFO : loading projection weights from ./models/model.bin.gz\n",
      "2024-04-10 22:21:41,127 : INFO : KeyedVectors lifecycle event {'msg': 'loaded (3000000, 300) matrix of type float32 from ./models/model.bin.gz', 'binary': True, 'encoding': 'utf8', 'datetime': '2024-04-10T22:21:41.127561', 'gensim': '4.3.2', 'python': '3.10.12 (main, Nov 20 2023, 15:14:05) [GCC 11.4.0]', 'platform': 'Linux-6.6.10-76060610-generic-x86_64-with-glibc2.35', 'event': 'load_word2vec_format'}\n"
     ]
    }
   ],
   "source": [
    "# Load Google's pre-trained Word2Vec model\n",
    "path = './models/model.bin.gz'\n",
    "model = KeyedVectors.load_word2vec_format(path, binary=True)\n",
    "# path = './models/word2vec-google-news-300.model'\n",
    "# model = gensim.models.Word2Vec.load(path)\n",
    "# model.init_sims(replace=True)"
   ]
  },
  {
   "cell_type": "code",
   "execution_count": 4,
   "id": "2d6a461f054708b1",
   "metadata": {
    "ExecuteTime": {
     "end_time": "2024-03-05T04:18:55.761409Z",
     "start_time": "2024-03-05T04:18:55.758460Z"
    },
    "collapsed": false,
    "jupyter": {
     "outputs_hidden": false
    }
   },
   "outputs": [
    {
     "name": "stdout",
     "output_type": "stream",
     "text": [
      "vocab_size: 3000000\n"
     ]
    }
   ],
   "source": [
    "# Check the size of the vocab\n",
    "print(\"vocab_size:\",len(model.key_to_index.keys()))"
   ]
  },
  {
   "cell_type": "code",
   "execution_count": 5,
   "id": "ad932423572c4b53",
   "metadata": {
    "ExecuteTime": {
     "end_time": "2024-03-05T04:19:52.453887Z",
     "start_time": "2024-03-05T04:19:46.029102Z"
    },
    "collapsed": false,
    "jupyter": {
     "outputs_hidden": false
    }
   },
   "outputs": [
    {
     "name": "stdout",
     "output_type": "stream",
     "text": [
      "Asking GPT 3.5...\n",
      "HTTP Request: POST https://api.openai.com/v1/chat/completions \"HTTP/1.1 200 OK\"\n",
      "{\n",
      "    \"candidates\": [\"cat\", \"plane\", \"cake\", \"house\"]\n",
      "}\n",
      "['cat', 'plane', 'cake', 'house']\n"
     ]
    }
   ],
   "source": [
    "from wordfinder import generate_target_words\n",
    "# CONFIG -- Define the target word and number of results\n",
    "targetWords = generate_target_words(4)\n",
    "\n",
    "# Number of associations to try and get for each\n",
    "numResults = 5000\n",
    "\n",
    "print(targetWords)"
   ]
  },
  {
   "cell_type": "code",
   "execution_count": 6,
   "id": "cd5bab2c-d8a6-481e-8ca9-9808e69533f6",
   "metadata": {},
   "outputs": [],
   "source": [
    "%load_ext autoreload\n",
    "%autoreload 2\n",
    "\n",
    "# Clean and format the results before writing to a file\n",
    "from hints import generate_hints\n",
    "from formatter import formatResults\n",
    "from resultwriter import write_results"
   ]
  },
  {
   "cell_type": "code",
   "execution_count": 7,
   "id": "5eaea531-0f8d-40db-b24d-d54f37a745d8",
   "metadata": {},
   "outputs": [
    {
     "name": "stdout",
     "output_type": "stream",
     "text": [
      "HELLO NOOB\n"
     ]
    }
   ],
   "source": [
    "import testabc\n",
    "\n",
    "testabc.testme()"
   ]
  },
  {
   "cell_type": "code",
   "execution_count": 15,
   "id": "d9beb45569267038",
   "metadata": {
    "ExecuteTime": {
     "end_time": "2024-03-05T04:21:00.227733Z",
     "start_time": "2024-03-05T04:20:30.549431Z"
    },
    "collapsed": false,
    "jupyter": {
     "outputs_hidden": false
    }
   },
   "outputs": [
    {
     "name": "stdout",
     "output_type": "stream",
     "text": [
      "STARTING FORMAT RESULTS\n",
      "Similar words [('queens', 0.739944338798523), ('princess', 0.7070532441139221), ('king', 0.6510956883430481), ('monarch', 0.6383602023124695), ('very_pampered_McElhatton', 0.6357026696205139), ('Queen', 0.6163407564163208), ('NYC_anglophiles_aflutter', 0.6060680150985718), ('Queen_Consort', 0.5923796892166138), ('princesses', 0.5908074975013733), ('royal', 0.5637185573577881)]\n",
      "queens is not a valid word!\n",
      "Trying to expand princess\n",
      "Expanded princess is similar to princesses\n",
      "Expanded princess is similar to princess\n",
      "Expanded princess is similar to queen\n",
      "Expanded princess is similar to prince\n",
      "Expanded princess is similar to fairytale_princess\n",
      "Expanded princess is similar to fairy_princess\n",
      "Expanded princess is similar to giantess\n",
      "Expanded princess is similar to mermaid\n",
      "Expanded princess is similar to merman\n",
      "Expanded princess is similar to prince_naveen\n",
      "Absorbing princesses\n",
      "queen is not a valid word!\n",
      "Absorbing prince\n",
      "fairytale_princess is not a valid word!\n",
      "fairy_princess is not a valid word!\n",
      "Absorbing giantess\n",
      "Absorbing mermaid\n",
      "Absorbing merman\n",
      "prince_naveen is not a valid word!\n",
      "Trying to expand king\n",
      "Expanded king is similar to kings\n",
      "Expanded king is similar to queen\n",
      "Expanded king is similar to monarch\n",
      "Expanded king is similar to rajah\n",
      "Expanded king is similar to sultan\n",
      "Expanded king is similar to ruler\n",
      "Expanded king is similar to crown_prince\n",
      "Expanded king is similar to prince\n",
      "Expanded king is similar to princes\n",
      "Expanded king is similar to shah_qajar\n",
      "Absorbing kings\n",
      "queen is not a valid word!\n",
      "Absorbing monarch\n",
      "Absorbing rajah\n",
      "Absorbing sultan\n",
      "Absorbing ruler\n",
      "crown_prince is not a valid word!\n",
      "prince is not a valid word!\n",
      "Absorbing princes\n",
      "shah_qajar is not a valid word!\n",
      "monarch is not a valid word!\n",
      "very_pampered_mcelhatton is not a valid word!\n",
      "queen is not a valid word!\n",
      "nyc_anglophiles_aflutter is not a valid word!\n",
      "queen_consort is not a valid word!\n",
      "princesses is not a valid word!\n",
      "Trying to expand royal\n",
      "Expanded royal is similar to royals\n",
      "Expanded royal is similar to windsors\n",
      "Expanded royal is similar to ananangya\n",
      "Expanded royal is similar to prince_charles\n",
      "Expanded royal is similar to monarch\n",
      "Expanded royal is similar to commoner\n",
      "Expanded royal is similar to princes\n",
      "Expanded royal is similar to marrying_commoner\n",
      "Expanded royal is similar to palace\n",
      "Expanded royal is similar to courtiers\n",
      "Absorbing royals\n",
      "Absorbing windsors\n",
      "Absorbing ananangya\n",
      "prince_charles is not a valid word!\n",
      "monarch is not a valid word!\n",
      "Absorbing commoner\n",
      "princes is not a valid word!\n",
      "marrying_commoner is not a valid word!\n",
      "Absorbing palace\n",
      "Absorbing courtiers\n",
      "[['ananangya', 14], ['commoner', 15], ['courtiers', 17], ['giantess', 3], ['kings', 6], ['mermaid', 4], ['merman', 5], ['monarch', 7], ['palace', 16], ['prince', 2], ['princes', 11], ['princesses', 1], ['queen', 0], ['rajah', 8], ['royals', 12], ['ruler', 10], ['sultan', 9], ['windsors', 13]]\n"
     ]
    }
   ],
   "source": [
    "# for word in targetWords:\n",
    "# targetWord = word.lower()\n",
    "targetWord = \"queen\"\n",
    "mockNumResults = 10\n",
    "# Run the model\n",
    "similarityResults=model.most_similar(targetWord,topn=mockNumResults)\n",
    "# print(targetWord)\n",
    "# print(similarityResults)\n",
    "# Generate results\n",
    "# hints=generate_hints(targetWord)\n",
    "formattedResults=formatResults(targetWord, similarityResults, model)\n",
    "# write_results(targetWord, hints, formattedResults)\n",
    "print(formattedResults)"
   ]
  },
  {
   "cell_type": "code",
   "execution_count": null,
   "id": "23dd9d734b7c050",
   "metadata": {
    "ExecuteTime": {
     "end_time": "2024-03-05T04:20:07.575709Z",
     "start_time": "2024-03-05T04:20:07.528302Z"
    },
    "collapsed": false,
    "jupyter": {
     "outputs_hidden": false
    }
   },
   "outputs": [],
   "source": [
    "# Next, write a script to search for any given word, with numResults++ as the default\n",
    "# Need to do more validation, given the whacko results I'm seeing too"
   ]
  },
  {
   "cell_type": "code",
   "execution_count": null,
   "id": "601cc12e-4ba6-4a6f-9eef-03414abc8103",
   "metadata": {},
   "outputs": [],
   "source": []
  },
  {
   "cell_type": "code",
   "execution_count": null,
   "id": "8a0a168a-e24b-4f69-84d4-d8b1b6de150c",
   "metadata": {},
   "outputs": [],
   "source": []
  }
 ],
 "metadata": {
  "kernelspec": {
   "display_name": "Python 3 (ipykernel)",
   "language": "python",
   "name": "python3"
  },
  "language_info": {
   "codemirror_mode": {
    "name": "ipython",
    "version": 3
   },
   "file_extension": ".py",
   "mimetype": "text/x-python",
   "name": "python",
   "nbconvert_exporter": "python",
   "pygments_lexer": "ipython3",
   "version": "3.10.12"
  }
 },
 "nbformat": 4,
 "nbformat_minor": 5
}
