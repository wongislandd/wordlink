{
 "cells": [
  {
   "cell_type": "code",
   "execution_count": 1,
   "id": "initial_id",
   "metadata": {
    "collapsed": true,
    "ExecuteTime": {
     "end_time": "2024-03-04T02:00:44.057718Z",
     "start_time": "2024-03-04T02:00:43.868885Z"
    }
   },
   "outputs": [
    {
     "ename": "ModuleNotFoundError",
     "evalue": "No module named 'gensim'",
     "output_type": "error",
     "traceback": [
      "\u001B[1;31m---------------------------------------------------------------------------\u001B[0m",
      "\u001B[1;31mModuleNotFoundError\u001B[0m                       Traceback (most recent call last)",
      "Cell \u001B[1;32mIn[1], line 5\u001B[0m\n\u001B[0;32m      2\u001B[0m \u001B[38;5;28;01mimport\u001B[39;00m \u001B[38;5;21;01mwarnings\u001B[39;00m\n\u001B[0;32m      3\u001B[0m warnings\u001B[38;5;241m.\u001B[39mfilterwarnings(action\u001B[38;5;241m=\u001B[39m\u001B[38;5;124m'\u001B[39m\u001B[38;5;124mignore\u001B[39m\u001B[38;5;124m'\u001B[39m, category\u001B[38;5;241m=\u001B[39m\u001B[38;5;167;01mUserWarning\u001B[39;00m, module\u001B[38;5;241m=\u001B[39m\u001B[38;5;124m'\u001B[39m\u001B[38;5;124mgensim\u001B[39m\u001B[38;5;124m'\u001B[39m)\n\u001B[1;32m----> 5\u001B[0m \u001B[38;5;28;01mfrom\u001B[39;00m \u001B[38;5;21;01mgensim\u001B[39;00m\u001B[38;5;21;01m.\u001B[39;00m\u001B[38;5;21;01mmodels\u001B[39;00m\u001B[38;5;21;01m.\u001B[39;00m\u001B[38;5;21;01mkeyedvectors\u001B[39;00m \u001B[38;5;28;01mimport\u001B[39;00m KeyedVectors\n\u001B[0;32m      7\u001B[0m \u001B[38;5;28;01mimport\u001B[39;00m \u001B[38;5;21;01mlogging\u001B[39;00m\n\u001B[0;32m      8\u001B[0m logging\u001B[38;5;241m.\u001B[39mbasicConfig(\u001B[38;5;28mformat\u001B[39m\u001B[38;5;241m=\u001B[39m\u001B[38;5;124m'\u001B[39m\u001B[38;5;132;01m%(asctime)s\u001B[39;00m\u001B[38;5;124m : \u001B[39m\u001B[38;5;132;01m%(levelname)s\u001B[39;00m\u001B[38;5;124m : \u001B[39m\u001B[38;5;132;01m%(message)s\u001B[39;00m\u001B[38;5;124m'\u001B[39m, level\u001B[38;5;241m=\u001B[39mlogging\u001B[38;5;241m.\u001B[39mINFO)\n",
      "\u001B[1;31mModuleNotFoundError\u001B[0m: No module named 'gensim'"
     ]
    }
   ],
   "source": [
    "# import modules & set up logging\n",
    "import warnings\n",
    "warnings.filterwarnings(action='ignore', category=UserWarning, module='gensim')\n",
    "\n",
    "from gensim.models.keyedvectors import KeyedVectors\n",
    "\n",
    "import logging\n",
    "logging.basicConfig(format='%(asctime)s : %(levelname)s : %(message)s', level=logging.INFO)"
   ]
  },
  {
   "cell_type": "code",
   "outputs": [],
   "source": [
    "# Load Google's pre-trained Word2Vec model\n",
    "path = './models/model.bin.gz'\n",
    "model = KeyedVectors.load_word2vec_format(path, binary=True)"
   ],
   "metadata": {
    "collapsed": false,
    "ExecuteTime": {
     "start_time": "2024-03-04T02:00:44.058724Z"
    }
   },
   "id": "62936ab3980f8dfe",
   "execution_count": null
  },
  {
   "cell_type": "code",
   "outputs": [],
   "source": [
    "# Check the size of the vocab\n",
    "print(\"vocab_size:\",len(model.key_to_index.keys()))"
   ],
   "metadata": {
    "collapsed": false,
    "ExecuteTime": {
     "start_time": "2024-03-04T02:00:44.058724Z"
    }
   },
   "id": "2d6a461f054708b1",
   "execution_count": null
  },
  {
   "cell_type": "code",
   "outputs": [],
   "source": [
    "model = KeyedVectors.load_word2vec_format(path, binary=True, limit=200000)"
   ],
   "metadata": {
    "collapsed": false,
    "ExecuteTime": {
     "start_time": "2024-03-04T02:00:44.059724Z"
    }
   },
   "id": "e867e1635bb99afa",
   "execution_count": null
  },
  {
   "cell_type": "code",
   "outputs": [],
   "source": [
    "print(\"vocab_size:\",len(model.key_to_index.keys()))"
   ],
   "metadata": {
    "collapsed": false,
    "ExecuteTime": {
     "start_time": "2024-03-04T02:00:44.059724Z"
    }
   },
   "id": "60fa5217bc3b176a",
   "execution_count": null
  },
  {
   "cell_type": "code",
   "outputs": [],
   "source": [
    "# CONFIG -- Define the target word and number of results\n",
    "targetWord = \"casino\"\n",
    "numResults = 5000"
   ],
   "metadata": {
    "collapsed": false,
    "ExecuteTime": {
     "start_time": "2024-03-04T02:00:44.060724Z"
    }
   },
   "id": "ad932423572c4b53",
   "execution_count": null
  },
  {
   "cell_type": "code",
   "outputs": [],
   "source": [
    "# Run the model\n",
    "similarityResults=model.most_similar(targetWord,topn=numResults)"
   ],
   "metadata": {
    "collapsed": false
   },
   "id": "bccbdaaace3fd164",
   "execution_count": null
  },
  {
   "cell_type": "code",
   "outputs": [],
   "source": [
    "# Clean and format the results before writing to a file\n",
    "from formatter import formatResults\n",
    "\n",
    "formattedResults=formatResults(targetWord, similarityResults)\n",
    "\n",
    "# Print to check\n",
    "formattedResults"
   ],
   "metadata": {
    "collapsed": false,
    "ExecuteTime": {
     "start_time": "2024-03-04T02:00:44.061725Z"
    }
   },
   "id": "d9beb45569267038",
   "execution_count": null
  },
  {
   "cell_type": "code",
   "outputs": [],
   "source": [
    "from hints import generate_hints\n",
    "\n",
    "hints=generate_hints(targetWord)\n",
    "print(hints)"
   ],
   "metadata": {
    "collapsed": false,
    "ExecuteTime": {
     "start_time": "2024-03-04T02:00:44.062725Z"
    }
   },
   "id": "1ef9ec1e6a9491b"
  },
  {
   "cell_type": "code",
   "outputs": [],
   "source": [
    "import os\n",
    "\n",
    "# Write the results to a file\n",
    "pathToGames=\"../server/src/main/resources/games/\"\n",
    "\n",
    "# Make this unique with a number\n",
    "currentCount = len(os.listdir(pathToGames))\n",
    "finalPath = pathToGames + str(currentCount) + \"-\" + targetWord + \".txt\"\n",
    "with(open(finalPath, 'w+')) as f:\n",
    "    for result in formattedResults:\n",
    "        line = f\"{result[0]},{result[1]}\\n\"\n",
    "        f.write(line)\n",
    "    \n",
    "print(\"Writing to file\",finalPath, \"with\", len(formattedResults), \"associations\")"
   ],
   "metadata": {
    "collapsed": false,
    "ExecuteTime": {
     "start_time": "2024-03-04T02:00:44.063725Z"
    }
   },
   "id": "58d0c40e86cab92d",
   "execution_count": null
  },
  {
   "cell_type": "code",
   "outputs": [],
   "source": [
    "# Next, write a script to search for any given word, with numResults++ as the default\n",
    "# Need to do more validation, given the whacko results I'm seeing too"
   ],
   "metadata": {
    "collapsed": false,
    "ExecuteTime": {
     "start_time": "2024-03-04T02:00:44.063725Z"
    }
   },
   "id": "23dd9d734b7c050",
   "execution_count": null
  }
 ],
 "metadata": {
  "kernelspec": {
   "display_name": "Python 3",
   "language": "python",
   "name": "python3"
  },
  "language_info": {
   "codemirror_mode": {
    "name": "ipython",
    "version": 2
   },
   "file_extension": ".py",
   "mimetype": "text/x-python",
   "name": "python",
   "nbconvert_exporter": "python",
   "pygments_lexer": "ipython2",
   "version": "2.7.6"
  }
 },
 "nbformat": 4,
 "nbformat_minor": 5
}
