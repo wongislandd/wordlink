{
 "cells": [
  {
   "cell_type": "code",
   "execution_count": 1,
   "id": "initial_id",
   "metadata": {
    "collapsed": true,
    "ExecuteTime": {
     "end_time": "2024-03-04T02:48:18.495143Z",
     "start_time": "2024-03-04T02:48:18.078147Z"
    }
   },
   "outputs": [],
   "source": [
    "# import modules & set up logging\n",
    "import warnings\n",
    "warnings.filterwarnings(action='ignore', category=UserWarning, module='gensim')\n",
    "\n",
    "from gensim.models.keyedvectors import KeyedVectors\n",
    "\n",
    "import logging\n",
    "logging.basicConfig(format='%(asctime)s : %(levelname)s : %(message)s', level=logging.INFO)"
   ]
  },
  {
   "cell_type": "code",
   "outputs": [
    {
     "name": "stderr",
     "output_type": "stream",
     "text": [
      "2024-03-03 21:48:18,499 : INFO : loading projection weights from ./models/model.bin.gz\n",
      "2024-03-03 21:48:50,330 : INFO : KeyedVectors lifecycle event {'msg': 'loaded (3000000, 300) matrix of type float32 from ./models/model.bin.gz', 'binary': True, 'encoding': 'utf8', 'datetime': '2024-03-03T21:48:50.330015', 'gensim': '4.3.2', 'python': '3.10.12 (main, Nov 20 2023, 15:14:05) [GCC 11.4.0]', 'platform': 'Linux-6.6.10-76060610-generic-x86_64-with-glibc2.35', 'event': 'load_word2vec_format'}\n"
     ]
    }
   ],
   "source": [
    "# Load Google's pre-trained Word2Vec model\n",
    "path = './models/model.bin.gz'\n",
    "model = KeyedVectors.load_word2vec_format(path, binary=True)"
   ],
   "metadata": {
    "collapsed": false,
    "ExecuteTime": {
     "end_time": "2024-03-04T02:48:50.331927Z",
     "start_time": "2024-03-04T02:48:18.497652Z"
    }
   },
   "id": "62936ab3980f8dfe",
   "execution_count": 2
  },
  {
   "cell_type": "code",
   "outputs": [
    {
     "name": "stdout",
     "output_type": "stream",
     "text": [
      "vocab_size: 3000000\n"
     ]
    }
   ],
   "source": [
    "# Check the size of the vocab\n",
    "print(\"vocab_size:\",len(model.key_to_index.keys()))"
   ],
   "metadata": {
    "collapsed": false,
    "ExecuteTime": {
     "end_time": "2024-03-04T02:48:50.358458Z",
     "start_time": "2024-03-04T02:48:50.332921Z"
    }
   },
   "id": "2d6a461f054708b1",
   "execution_count": 3
  },
  {
   "cell_type": "code",
   "outputs": [
    {
     "name": "stderr",
     "output_type": "stream",
     "text": [
      "2024-03-03 21:48:50,489 : INFO : loading projection weights from ./models/model.bin.gz\n",
      "2024-03-03 21:49:31,621 : INFO : KeyedVectors lifecycle event {'msg': 'loaded (3000000, 300) matrix of type float32 from ./models/model.bin.gz', 'binary': True, 'encoding': 'utf8', 'datetime': '2024-03-03T21:49:31.620453', 'gensim': '4.3.2', 'python': '3.10.12 (main, Nov 20 2023, 15:14:05) [GCC 11.4.0]', 'platform': 'Linux-6.6.10-76060610-generic-x86_64-with-glibc2.35', 'event': 'load_word2vec_format'}\n"
     ]
    }
   ],
   "source": [
    "model = KeyedVectors.load_word2vec_format(path, binary=True)"
   ],
   "metadata": {
    "collapsed": false,
    "ExecuteTime": {
     "end_time": "2024-03-04T02:49:32.338716Z",
     "start_time": "2024-03-04T02:48:50.359959Z"
    }
   },
   "id": "e867e1635bb99afa",
   "execution_count": 4
  },
  {
   "cell_type": "code",
   "outputs": [
    {
     "name": "stdout",
     "output_type": "stream",
     "text": [
      "vocab_size: 3000000\n"
     ]
    }
   ],
   "source": [
    "print(\"vocab_size:\",len(model.key_to_index.keys()))"
   ],
   "metadata": {
    "collapsed": false,
    "ExecuteTime": {
     "end_time": "2024-03-04T02:49:32.356140Z",
     "start_time": "2024-03-04T02:49:32.343751Z"
    }
   },
   "id": "60fa5217bc3b176a",
   "execution_count": 5
  },
  {
   "cell_type": "code",
   "outputs": [
    {
     "name": "stderr",
     "output_type": "stream",
     "text": [
      "2024-03-03 21:49:37,680 : INFO : HTTP Request: POST https://api.openai.com/v1/chat/completions \"HTTP/1.1 200 OK\"\n"
     ]
    },
    {
     "name": "stdout",
     "output_type": "stream",
     "text": [
      "['dog', 'book', 'ocean']\n"
     ]
    }
   ],
   "source": [
    "from wordfinder import generate_target_words\n",
    "# CONFIG -- Define the target word and number of results\n",
    "targetWords = generate_target_words(10)\n",
    "\n",
    "# Number of associations to try and get for each\n",
    "numResults = 5000\n",
    "\n",
    "print(targetWords)"
   ],
   "metadata": {
    "collapsed": false,
    "ExecuteTime": {
     "end_time": "2024-03-04T02:49:37.686796Z",
     "start_time": "2024-03-04T02:49:32.357627Z"
    }
   },
   "id": "ad932423572c4b53",
   "execution_count": 6
  },
  {
   "cell_type": "code",
   "outputs": [
    {
     "name": "stderr",
     "output_type": "stream",
     "text": [
      "[nltk_data] Downloading package wordnet to /home/chris/nltk_data...\n",
      "[nltk_data]   Package wordnet is already up-to-date!\n",
      "2024-03-03 21:49:43,512 : INFO : HTTP Request: POST https://api.openai.com/v1/chat/completions \"HTTP/1.1 200 OK\"\n"
     ]
    },
    {
     "name": "stdout",
     "output_type": "stream",
     "text": [
      "Writing to file ../server/src/main/resources/games/4-dog.txt with 1491 associations\n"
     ]
    },
    {
     "name": "stderr",
     "output_type": "stream",
     "text": [
      "2024-03-03 21:49:46,481 : INFO : HTTP Request: POST https://api.openai.com/v1/chat/completions \"HTTP/1.1 200 OK\"\n"
     ]
    },
    {
     "name": "stdout",
     "output_type": "stream",
     "text": [
      "Writing to file ../server/src/main/resources/games/5-book.txt with 610 associations\n"
     ]
    },
    {
     "name": "stderr",
     "output_type": "stream",
     "text": [
      "2024-03-03 21:49:46,793 : INFO : HTTP Request: POST https://api.openai.com/v1/chat/completions \"HTTP/1.1 429 Too Many Requests\"\n",
      "2024-03-03 21:49:46,794 : INFO : Retrying request to /chat/completions in 20.000000 seconds\n",
      "2024-03-03 21:50:08,498 : INFO : HTTP Request: POST https://api.openai.com/v1/chat/completions \"HTTP/1.1 200 OK\"\n"
     ]
    },
    {
     "name": "stdout",
     "output_type": "stream",
     "text": [
      "Writing to file ../server/src/main/resources/games/6-ocean.txt with 1175 associations\n"
     ]
    }
   ],
   "source": [
    "# Clean and format the results before writing to a file\n",
    "from hints import generate_hints\n",
    "from formatter import formatResults\n",
    "from resultwriter import write_results\n",
    "\n",
    "for word in targetWords:\n",
    "    targetWord = word.lower()\n",
    "    # Run the model\n",
    "    similarityResults=model.most_similar(targetWord,topn=numResults)\n",
    "    # Generate results\n",
    "    hints=generate_hints(targetWord)\n",
    "    formattedResults=formatResults(targetWord, similarityResults)\n",
    "    write_results(targetWord, hints, formattedResults)"
   ],
   "metadata": {
    "collapsed": false,
    "ExecuteTime": {
     "end_time": "2024-03-04T02:50:08.555540Z",
     "start_time": "2024-03-04T02:49:37.688162Z"
    }
   },
   "id": "d9beb45569267038",
   "execution_count": 7
  },
  {
   "cell_type": "code",
   "outputs": [],
   "source": [
    "# Next, write a script to search for any given word, with numResults++ as the default\n",
    "# Need to do more validation, given the whacko results I'm seeing too"
   ],
   "metadata": {
    "collapsed": false,
    "ExecuteTime": {
     "end_time": "2024-03-04T02:50:08.560076Z",
     "start_time": "2024-03-04T02:50:08.556945Z"
    }
   },
   "id": "23dd9d734b7c050",
   "execution_count": 8
  }
 ],
 "metadata": {
  "kernelspec": {
   "display_name": "Python 3",
   "language": "python",
   "name": "python3"
  },
  "language_info": {
   "codemirror_mode": {
    "name": "ipython",
    "version": 2
   },
   "file_extension": ".py",
   "mimetype": "text/x-python",
   "name": "python",
   "nbconvert_exporter": "python",
   "pygments_lexer": "ipython2",
   "version": "2.7.6"
  }
 },
 "nbformat": 4,
 "nbformat_minor": 5
}
