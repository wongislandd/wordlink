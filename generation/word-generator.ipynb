{
 "cells": [
  {
   "cell_type": "code",
   "execution_count": 46,
   "id": "initial_id",
   "metadata": {
    "collapsed": true,
    "ExecuteTime": {
     "end_time": "2024-03-02T02:36:08.020318Z",
     "start_time": "2024-03-02T02:36:07.969774Z"
    }
   },
   "outputs": [],
   "source": [
    "# import modules & set up logging\n",
    "import warnings\n",
    "warnings.filterwarnings(action='ignore', category=UserWarning, module='gensim')\n",
    "\n",
    "from gensim.models.keyedvectors import KeyedVectors\n",
    "\n",
    "import logging\n",
    "logging.basicConfig(format='%(asctime)s : %(levelname)s : %(message)s', level=logging.INFO)"
   ]
  },
  {
   "cell_type": "code",
   "outputs": [
    {
     "name": "stderr",
     "output_type": "stream",
     "text": [
      "2024-03-01 21:36:08,265 : INFO : loading projection weights from ./models/model.bin.gz\n",
      "2024-03-01 21:36:48,451 : INFO : KeyedVectors lifecycle event {'msg': 'loaded (3000000, 300) matrix of type float32 from ./models/model.bin.gz', 'binary': True, 'encoding': 'utf8', 'datetime': '2024-03-01T21:36:48.450906', 'gensim': '4.3.2', 'python': '3.10.12 (main, Nov 20 2023, 15:14:05) [GCC 11.4.0]', 'platform': 'Linux-6.6.10-76060610-generic-x86_64-with-glibc2.35', 'event': 'load_word2vec_format'}\n"
     ]
    }
   ],
   "source": [
    "# Load Google's pre-trained Word2Vec model\n",
    "path = './models/model.bin.gz'\n",
    "model = KeyedVectors.load_word2vec_format(path, binary=True)"
   ],
   "metadata": {
    "collapsed": false,
    "ExecuteTime": {
     "end_time": "2024-03-02T02:36:48.546639Z",
     "start_time": "2024-03-02T02:36:08.023401Z"
    }
   },
   "id": "62936ab3980f8dfe",
   "execution_count": 47
  },
  {
   "cell_type": "code",
   "outputs": [
    {
     "name": "stdout",
     "output_type": "stream",
     "text": [
      "vocab_size: 3000000\n"
     ]
    }
   ],
   "source": [
    "# Check the size of the vocab\n",
    "print(\"vocab_size:\",len(model.key_to_index.keys()))"
   ],
   "metadata": {
    "collapsed": false,
    "ExecuteTime": {
     "end_time": "2024-03-02T02:36:48.551465Z",
     "start_time": "2024-03-02T02:36:48.548276Z"
    }
   },
   "id": "2d6a461f054708b1",
   "execution_count": 48
  },
  {
   "cell_type": "code",
   "outputs": [
    {
     "name": "stderr",
     "output_type": "stream",
     "text": [
      "2024-03-01 21:36:48,989 : INFO : loading projection weights from ./models/model.bin.gz\n",
      "2024-03-01 21:36:52,066 : INFO : KeyedVectors lifecycle event {'msg': 'loaded (200000, 300) matrix of type float32 from ./models/model.bin.gz', 'binary': True, 'encoding': 'utf8', 'datetime': '2024-03-01T21:36:52.066488', 'gensim': '4.3.2', 'python': '3.10.12 (main, Nov 20 2023, 15:14:05) [GCC 11.4.0]', 'platform': 'Linux-6.6.10-76060610-generic-x86_64-with-glibc2.35', 'event': 'load_word2vec_format'}\n"
     ]
    }
   ],
   "source": [
    "model = KeyedVectors.load_word2vec_format(path, binary=True, limit=200000)"
   ],
   "metadata": {
    "collapsed": false,
    "ExecuteTime": {
     "end_time": "2024-03-02T02:36:52.570775Z",
     "start_time": "2024-03-02T02:36:48.552320Z"
    }
   },
   "id": "e867e1635bb99afa",
   "execution_count": 49
  },
  {
   "cell_type": "code",
   "outputs": [
    {
     "name": "stdout",
     "output_type": "stream",
     "text": [
      "vocab_size: 200000\n"
     ]
    }
   ],
   "source": [
    "print(\"vocab_size:\",len(model.key_to_index.keys()))"
   ],
   "metadata": {
    "collapsed": false,
    "ExecuteTime": {
     "end_time": "2024-03-02T02:36:52.576938Z",
     "start_time": "2024-03-02T02:36:52.573542Z"
    }
   },
   "id": "60fa5217bc3b176a",
   "execution_count": 50
  },
  {
   "cell_type": "code",
   "outputs": [],
   "source": [
    "# CONFIG -- Define the target word and number of results\n",
    "targetWord = \"casino\"\n",
    "numResults = 5000"
   ],
   "metadata": {
    "collapsed": false,
    "ExecuteTime": {
     "end_time": "2024-03-02T02:36:52.739288Z",
     "start_time": "2024-03-02T02:36:52.578239Z"
    }
   },
   "id": "ad932423572c4b53",
   "execution_count": 51
  },
  {
   "cell_type": "code",
   "outputs": [],
   "source": [
    "# Run the model\n",
    "similarityResults=model.most_similar(targetWord,topn=numResults)"
   ],
   "metadata": {
    "collapsed": false,
    "ExecuteTime": {
     "end_time": "2024-03-02T02:36:53.379432Z",
     "start_time": "2024-03-02T02:36:52.740689Z"
    }
   },
   "id": "bccbdaaace3fd164",
   "execution_count": 52
  },
  {
   "cell_type": "code",
   "outputs": [
    {
     "data": {
      "text/plain": "[['abalone', 1033],\n ['abatement', 1839],\n ['abatements', 1841],\n ['abattoir', 1410],\n ['abba', 2296],\n ['abcc', 1285],\n ['abercrombie', 2881],\n ['abertis', 3045],\n ['abhorrence', 2096],\n ['aboriginal', 1876],\n ['aborigine', 1877],\n ['abortionist', 2591],\n ['abramoff', 491],\n ['absher', 511],\n ['absinth', 2680],\n ['absinthe', 2679],\n ['accor', 1709],\n ['accuride', 2286],\n ['ace', 2420],\n ['aces', 2421],\n ['acme', 415],\n ['acoma', 2214],\n ['acropolis', 2879],\n ['activision', 904],\n ['address', 2706],\n ['adelson', 62],\n ['administration', 364],\n ['adrift', 1392],\n ['aeg', 2545],\n ['aehi', 1748],\n ['aerosmith', 1739],\n ['affliction', 2520],\n ['aga', 1868],\n ['aga', 1869],\n ['agate', 2033],\n ['agilysys', 899],\n ['agoda', 1974],\n ['agreeableness', 1089],\n ['agriprocessors', 1978],\n ['agritourism', 985],\n ['aircard', 2657],\n ['airline', 615],\n ['airlines', 2844],\n ['airport', 318],\n ['airports', 1259],\n ['airshow', 2870],\n ['airstrip', 108],\n ['airtran', 1544],\n ['akwesasne', 1227],\n ['aladdin', 389],\n ['aladdin', 390],\n ['alcoholic', 2750],\n ['alderney', 510],\n ['alh', 1917],\n ['alienware', 2016],\n ['allegiant', 777],\n ['alltel', 2762],\n ['amenities', 2584],\n ['amenity', 1088],\n ['ameren', 1805],\n ['amerenue', 1520],\n ['amerind', 1002],\n ['ameristar', 26],\n ['amodeo', 2034],\n ['amphitheater', 947],\n ['amtrak', 1121],\n ['amusement', 153],\n ['amusements', 321],\n ['analgesic', 1419],\n ['ancestry', 2627],\n ['anello', 1985],\n ['anglogold', 1391],\n ['angostura', 1615],\n ['animatronics', 1106],\n ['annexation', 1929],\n ['anteroom', 1280],\n ['antigua', 1675],\n ['antigua', 1676],\n ['antiguan', 2494],\n ['antiguan', 2495],\n ['antioco', 1859],\n ['antlered', 2285],\n ['antone', 2561],\n ['antonetti', 1589],\n ['antonius', 975],\n ['antony', 976],\n ['apartment', 1260],\n ['apartments', 1261],\n ['appaloosa', 2872],\n ['appaloosa', 2873],\n ['applebee', 277],\n ['aquaculture', 1516],\n ['aqualung', 2536],\n ['aquarium', 1377],\n ['aquatic', 2153],\n ['aqueduct', 155],\n ['arapaho', 3014],\n ['arapaho', 3015],\n ['arby', 1916],\n ['arcade', 109],\n ['arcades', 110],\n ['arcandor', 2487],\n ['arcelor', 2170],\n ['archipelago', 1749],\n ['arena', 664],\n ['arenas', 3006],\n ['argosy', 94],\n ['aria', 799],\n ['aristocrat', 36],\n ['armentrout', 2082],\n ['artman', 851],\n ['artprize', 1429],\n ['artwork', 1780],\n ['asarco', 1838],\n ['ashtray', 1964],\n ['ashtrays', 1963],\n ['aspinall', 2123],\n ['assignation', 1617],\n ['ati', 2219],\n ['atlantic', 1626],\n ['atlantic', 1627],\n ['atlantica', 372],\n ['atlantis', 1854],\n ['atlantis', 1855],\n ['atm', 508],\n ['atms', 629],\n ['atria', 1824],\n ['atrium', 1823],\n ['attic', 2482],\n ['attraction', 749],\n ['attractions', 750],\n ['augustine', 2896],\n ['augustine', 2897],\n ['augustus', 803],\n ['ausra', 3086],\n ['austal', 821],\n ['auto', 1746],\n ['automaker', 1635],\n ['automaking', 1548],\n ['autoworkers', 1245],\n ['avalonbay', 1731],\n ['aventine', 1933],\n ['ayre', 962],\n ['aztar', 46],\n ['baccarat', 21],\n ['backbone', 118],\n ['backgammon', 410],\n ['backpacker', 1453],\n ['backroom', 1149],\n ['badlands', 700],\n ['bag', 399],\n ['bailout', 1708],\n ['bait', 2597],\n ['bakery', 2218],\n ['bakk', 2432],\n ['ballfield', 2548],\n ['ballot', 2406],\n ['ballpark', 968],\n ['ballroom', 529],\n ['ballrooms', 619],\n ['bally', 31],\n ['balsillie', 2692],\n ['bandit', 1851],\n ['bang', 3040],\n ['bank', 484],\n ['banker', 1943],\n ['bankers', 2041],\n ['banking', 917],\n ['bankroll', 567],\n ['bankrolls', 568],\n ['banks', 1545],\n ['banks', 1546],\n ['bankwest', 2115],\n ['banqueting', 862],\n ['bar', 266],\n ['barbershop', 1879],\n ['barden', 124],\n ['barge', 1096],\n ['barges', 1095],\n ['baristas', 2120],\n ['barmaid', 1167],\n ['barman', 1092],\n ['barneys', 2576],\n ['baron', 2267],\n ['barona', 126],\n ['barrick', 1927],\n ['barroom', 257],\n ['bars', 493],\n ['barstool', 2441],\n ['bartender', 323],\n ['bartenders', 324],\n ['bartending', 583],\n ['bashaw', 1181],\n ['bathhouse', 513],\n ['bathhouses', 512],\n ['battleship', 1484],\n ['bayfront', 2499],\n ['bayside', 1729],\n ['bclc', 351],\n ['bdc', 2940],\n ['beach', 2834],\n ['beachcomber', 2622],\n ['beachfront', 494],\n ['beachside', 1058],\n ['beak', 284],\n ['beal', 1849],\n ['beast', 2452],\n ['beefeater', 2857],\n ['begay', 2885],\n ['bejeweled', 779],\n ['belcourt', 1152],\n ['bell', 1298],\n ['bellagio', 51],\n ['bellator', 2846],\n ['belle', 1323],\n ['belmont', 2002],\n ['benihana', 918],\n ['bennigan', 246],\n ['bensalem', 2744],\n ['bernero', 2173],\n ['beshear', 1402],\n ['bet', 132],\n ['betfair', 211],\n ['betfred', 520],\n ['betonsports', 236],\n ['bets', 327],\n ['betting', 100],\n ['bettman', 1365],\n ['bettor', 172],\n ['bettors', 171],\n ['betus', 1629],\n ['beulah', 1655],\n ['beverage', 576],\n ['bhp', 1562],\n ['bhs', 1741],\n ['bia', 441],\n ['bice', 1650],\n ['bicycle', 1466],\n ['billboard', 2305],\n ['billiard', 776],\n ['billiards', 388],\n ['billionaire', 2304],\n ['biloxi', 332],\n ['biloxi', 333],\n ['biltmore', 2503],\n ['bing', 2774],\n ['binger', 1870],\n ['bingo', 22],\n ['binion', 74],\n ['biorefinery', 1304],\n ['bioscience', 989],\n ['biosciences', 2072],\n ['bioshock', 2171],\n ['bison', 3088],\n ['bistro', 1038],\n ['bistros', 1388],\n ['bit', 533],\n ['bitner', 1973],\n ['blackjack', 12],\n ['blackpool', 1127],\n ['blackpool', 1128],\n ['blagojevich', 1564],\n ['blankfein', 3074],\n ['blatter', 2779],\n ['blb', 168],\n ['blind', 2150],\n ['blinds', 2152],\n ['blink', 2263],\n ['blixseth', 2168],\n ['blizzcon', 2895],\n ['blockbuster', 2361],\n ['bloom', 3037],\n ['bluegreen', 774],\n ['bluff', 665],\n ['bluffed', 1457],\n ['bluffing', 475],\n ['bluffs', 880],\n ['bluhm', 314],\n ['blush', 3039],\n ['bmv', 1336],\n ['board', 730],\n ['boardwalk', 114],\n ['boardwalks', 1438],\n ['boater', 1350],\n ['boaters', 2586],\n ['boathouse', 1333],\n ['boating', 1232],\n ['boatman', 2587],\n ['boatyard', 1143],\n ['bobbin', 2775],\n ['bobtail', 1173],\n ['bocce', 2228],\n ['bodega', 2149],\n ['bodog', 173],\n ['bohrium', 1742],\n ['boiler', 2367],\n ['boka', 1940],\n ['bomber', 2073],\n ['bonaparte', 2755],\n ['bondage', 2760],\n ['bone', 2529],\n ['bonus', 1146],\n ['bonuses', 1147],\n ['boodle', 371],\n ['bookie', 103],\n ['bookies', 395],\n ['booking', 223],\n ['bookmaker', 99],\n ['bookmakers', 185],\n ['bookmaking', 70],\n ['bookseller', 2829],\n ['bookshop', 2254],\n ['bookstore', 2255],\n ['boomtown', 198],\n ['booth', 1200],\n ['bootlegging', 672],\n ['booze', 931],\n ['boozer', 2751],\n ['boozing', 2877],\n ['boracay', 3107],\n ['bordello', 272],\n ['borgata', 23],\n ['boring', 2639],\n ['boscov', 1060],\n ['bosley', 1164],\n ['boughner', 373],\n ['boulis', 834],\n ['bouncer', 829],\n ['bouncers', 828],\n ['bourse', 1921],\n ['bourse', 1922],\n ['boutique', 2683],\n ['bovis', 2239],\n ['bowhunting', 2424],\n ['bowling', 1965],\n ['boxer', 3102],\n ['boxer', 3103],\n ['boxing', 671],\n ['boylesports', 2196],\n ['bracketbusters', 2390],\n ['branson', 413],\n ['branstad', 2859],\n ['brascan', 1947],\n ['brasserie', 1508],\n ['brawler', 2221],\n ['breakwater', 1180],\n ['breakwaters', 2913],\n ['brewery', 1271],\n ['brewpub', 1175],\n ['bribe', 787],\n ['bricktown', 419],\n ['bridge', 2701],\n ['brigantine', 2790],\n ['brimmer', 2818],\n ['brisman', 1228],\n ['broadband', 2876],\n ['broadwater', 1386],\n ['brothel', 96],\n ['brothels', 142],\n ['brownfield', 2491],\n ['brownfields', 2621],\n ['brt', 2887],\n ['brunetti', 1651],\n ['brunson', 1153],\n ['buckcherry', 3025],\n ['buffet', 175],\n ['buffets', 174],\n ['buffett', 3042],\n ['bugsy', 2340],\n ['buildable', 3073],\n ['bullfighting', 1897],\n ['bullring', 346],\n ['bullshit', 15],\n ['bunco', 813],\n ['bungalow', 2190],\n ['burger', 1024],\n ['burger', 1025],\n ['burlesque', 793],\n ['burrage', 916],\n ['burswood', 102],\n ['bus', 2236],\n ['busboy', 1620],\n ['bushehr', 2217],\n ['business', 1463],\n ['businesses', 1804],\n ['businessman', 1197],\n ['businessmen', 1196],\n ['busker', 2125],\n ['busway', 2439],\n ['butera', 313],\n ['butler', 1597],\n ['butler', 1598],\n ['butlers', 1599],\n ['butlins', 1700],\n ['buzztime', 461],\n ['bwin', 199],\n ['byd', 1600],\n ['byob', 2404],\n ['caan', 2039],\n ['cab', 1540],\n ['cabaret', 85],\n ['cabarets', 426],\n ['cabazon', 1207],\n ['cabbie', 1449],\n ['cabbies', 695],\n ['cabela', 258],\n ['cabs', 1971],\n ['cada', 377],\n ['cadbury', 2662],\n ['caesar', 10],\n ['caesar', 1105],\n ['caesars', 9],\n ['cafe', 444],\n ['cafes', 1032],\n ['cafo', 1246],\n ['caiman', 2900],\n ['cajundome', 2802],\n ['cake', 270],\n ['calabrese', 1759],\n ['caliente', 681],\n ['calzaghe', 2810],\n ['camelot', 289],\n ['camelot', 290],\n ['campground', 453],\n ['campgrounds', 1490],\n ['campsite', 454],\n ['cancer', 2821],\n ['cancun', 1411],\n ['cancun', 1412],\n ['candlewood', 2376],\n ['cannery', 125],\n ['cannibalization', 1085],\n ['cannibalize', 2422],\n ['cantina', 556],\n ['canvasser', 1039],\n ['canvassers', 1041],\n ['capco', 2322],\n ['caper', 2358],\n ['capitaland', 591],\n ['capitalism', 1016],\n ['capitalist', 2162],\n ['capitalists', 2163],\n ['capone', 1010],\n ['capone', 2102],\n ['cappelli', 525],\n ['capri', 129],\n ['capri', 130],\n ['caprio', 1766],\n ['caption', 1029],\n ['car', 718],\n ['caraco', 2043],\n ['carcieri', 259],\n ['card', 756],\n ['cards', 1693],\n ['caremark', 1717],\n ['carleo', 1101],\n ['carlino', 343],\n ['carluccio', 2182],\n ['carmaker', 2644],\n ['carmike', 2272],\n ['carnival', 957],\n ['carousel', 1116],\n ['carrel', 2434],\n ['carriage', 1364],\n ['carruthers', 1611],\n ['carryall', 1279],\n ['carryout', 1980],\n ['caruthersville', 751],\n ['carwash', 667],\n ['cash', 963],\n ['cash', 965],\n ['cashbox', 864],\n ['cashed', 1822],\n ['cashell', 602],\n ['cashes', 964],\n ['cashier', 688],\n ['cashiers', 687],\n ['cashing', 2180],\n ['cashless', 791],\n ['casino', 0],\n ['castaway', 203],\n ['castaways', 204],\n ['castle', 3047],\n ['casual', 1691],\n ['catan', 2816],\n ['caterer', 1784],\n ['caterers', 1783],\n ['catskill', 2457],\n ['catskills', 302],\n ['catskills', 303],\n ['caucus', 536],\n ['caucuses', 535],\n ['caucusing', 546],\n ['causeway', 2849],\n ['cavalry', 1533],\n ['caymans', 2901],\n ['cayne', 1195],\n ['cbgb', 2656],\n ['cboe', 1320],\n ['cbot', 1249],\n ['ceglia', 2721],\n ['cellini', 549],\n ['cellini', 550],\n ['centaur', 596],\n ['centaurus', 595],\n ['centene', 1059],\n ['centrebet', 691],\n ['cerner', 2154],\n ['cero', 2384],\n ['certegy', 2665],\n ['cfds', 2109],\n ['chairlift', 2468],\n ['chairlifts', 2469],\n ['chalet', 2408],\n ['chambermaid', 3094],\n ['changyou', 439],\n ['chanos', 2055],\n ['chapur', 2718],\n ['charlestown', 2426],\n ['charlestown', 2427],\n ['charter', 1256],\n ['charters', 2088],\n ['chartwell', 232],\n ['chateau', 2161],\n ['cheapness', 1938],\n ['check', 341],\n ['cheeky', 3097],\n ['cheeseburger', 1442],\n ['chemnutra', 1791],\n ['cheong', 1360],\n ['cherokee', 744],\n ['cherokee', 745],\n ['cherokees', 984],\n ['chess', 2538],\n ['cheyenne', 2143],\n ['cheyenne', 2144],\n ['chickasaw', 1395],\n ['chickasaw', 1396],\n ['chinalco', 2185],\n ['chinatown', 831],\n ['chingy', 1656],\n ['chip', 534],\n ['chipmaker', 2178],\n ['chippewa', 992],\n ['chips', 532],\n ['chocolatier', 1565],\n ['choctaw', 159],\n ['choctaw', 249],\n ['choctaws', 160],\n ['chrysler', 1330],\n ['chui', 2531],\n ['chumash', 905],\n ['churchill', 2982],\n ['churchill', 2983],\n ['cicc', 2672],\n ['cici', 1609],\n ['cietc', 707],\n ['cigar', 805],\n ['cigarette', 503],\n ['cigarettes', 680],\n ['cigars', 1825],\n ['cinema', 1371],\n ['cinemark', 1734],\n ['cinemas', 2004],\n ['cineplex', 811],\n ['cipriani', 1151],\n ['circus', 956],\n ['cirque', 1006],\n ['citic', 2560],\n ['city', 1286],\n ['citycenter', 64],\n ['cityhood', 1563],\n ['cityplace', 898],\n ['cityscape', 2989],\n ['ckx', 3099],\n ['clairvest', 841],\n ['clam', 369],\n ['clamming', 1355],\n ['clams', 370],\n ['clans', 2137],\n ['clearinghouses', 2370],\n ['clerk', 1772],\n ['clerks', 1773],\n ['clientele', 1464],\n ['cliff', 1640],\n ['cliffs', 1639],\n ['cliffside', 2211],\n ['club', 473],\n ['clubbers', 1802],\n ['clubhouse', 1829],\n ['clubs', 1828],\n ['coal', 1335],\n ['coalmine', 930],\n ['cobalt', 2765],\n ['cobell', 2759],\n ['cobo', 376],\n ['cock', 3075],\n ['cockfight', 424],\n ['cockfighting', 783],\n ['cockfights', 425],\n ['coffeehouse', 2437],\n ['coffeeshop', 2329],\n ['coffin', 2095],\n ['coin', 470],\n ['coins', 1305],\n ['coker', 2279],\n ['coliseum', 948],\n ['collage', 1945],\n ['collectability', 2737],\n ['collectible', 3023],\n ['collectibles', 3022],\n ['colliery', 809],\n ['colma', 3092],\n ['coloreds', 1948],\n ['colosseum', 1721],\n ['colosseum', 1722],\n ['column', 2413],\n ['comair', 1593],\n ['comdex', 741],\n ['comforts', 2583],\n ['comp', 942],\n ['compact', 214],\n ['compacts', 215],\n ['comps', 630],\n ['compuware', 2192],\n ['conahan', 1814],\n ['concession', 2380],\n ['concessionaire', 932],\n ['concierge', 2450],\n ['condo', 306],\n ['condominium', 251],\n ['condominiums', 380],\n ['condos', 391],\n ['confectioner', 2303],\n ['connerly', 1440],\n ['conning', 2502],\n ['conrail', 1480],\n ['consortium', 679],\n ['constitution', 363],\n ['construction', 1065],\n ['convention', 910],\n ['conventionality', 911],\n ['conventioneer', 611],\n ['conventioneers', 610],\n ['copacabana', 1704],\n ['coral', 2725],\n ['coralville', 2728],\n ['corbo', 397],\n ['cordish', 40],\n ['corillian', 1697],\n ['cornet', 138],\n ['corporation', 2734],\n ['corruption', 2374],\n ['corruptness', 2373],\n ['cortege', 1210],\n ['corus', 2258],\n ['corzine', 3016],\n ['cosmetology', 2567],\n ['cosmopolitan', 276],\n ['costantino', 2230],\n ['costigan', 1251],\n ['costner', 717],\n ['cothran', 2905],\n ['cottage', 2191],\n ['cottages', 2669],\n ['councilman', 2403],\n ['counterfeiters', 2177],\n ['county', 2564],\n ['coupling', 2353],\n ['court', 2839],\n ['courthouse', 1309],\n ['courtrooms', 2838],\n ['cousino', 2716],\n ['covanta', 1736],\n ['covenant', 216],\n ['cowboy', 2446],\n ['cowlitz', 760],\n ['coyote', 2324],\n ['coyotes', 2325],\n ['cra', 2220],\n ['crab', 2820],\n ['crabbers', 2793],\n ['crane', 2428],\n ['crane', 2430],\n ['crap', 14],\n ['craps', 13],\n ['crematorium', 3028],\n ['crematory', 3029],\n ['cresta', 1194],\n ['cribbage', 2138],\n ['crmc', 1179],\n ['crooked', 1660],\n ['crossfire', 2379],\n ['crossing', 850],\n ['crossings', 846],\n ['crown', 877],\n ['crown', 878],\n ['crucifix', 2386],\n ['cruise', 440],\n ['cruiser', 2998],\n ['cruisers', 2999],\n ['cruises', 609],\n ['cruisin', 2241],\n ['cryptologic', 71],\n ['crystal', 1952],\n ['crystals', 1951],\n ['crytek', 2562],\n ['csx', 2231],\n ['ctrip', 2458],\n ['cullerton', 1561],\n ['culver', 2929],\n ['curler', 219],\n ['currency', 1295],\n ['currentness', 1294],\n ['curry', 2932],\n ['cussler', 2193],\n ['cut', 2952],\n ['cutlet', 1015],\n ['cvb', 457],\n ['cvs', 1553],\n ['cybercrime', 1858],\n ['cycle', 2667],\n ['dabhol', 3089],\n ['dairies', 3069],\n ['dairy', 3070],\n ['dam', 981],\n ['dandy', 2246],\n ['dann', 3012],\n ['darden', 2526],\n ['daycare', 1842],\n ['deadbeat', 2808],\n ['deadwood', 386],\n ['dealer', 1787],\n ['dealership', 1110],\n ['deauville', 1648],\n ['debartolo', 1555],\n ['debary', 2580],\n ['decameter', 980],\n ['deck', 2979],\n ['decoration', 241],\n ['decree', 2723],\n ['deepwater', 997],\n ['defaulter', 2809],\n ['defcon', 1071],\n ['delano', 1716],\n ['delaware', 2188],\n ['delaware', 2189],\n ['deldot', 2684],\n ['deleo', 1366],\n ['deli', 1078],\n ['delicatessen', 1077],\n ['delphi', 1679],\n ['delphi', 1680],\n ['demetriou', 2907],\n ['denaples', 205],\n ['denny', 2201],\n ['depasquale', 1580],\n ['depp', 1595],\n ['deq', 1266],\n ['derby', 2396],\n ['deripaska', 2480],\n ['derivative', 2467],\n ['derivatives', 2466],\n ['derrick', 2785],\n ['descent', 2626],\n ['desiderio', 1351],\n ['desrosiers', 1322],\n ['destination', 2707],\n ['detroit', 2852],\n ['detroit', 2853],\n ['developable', 1163],\n ['developer', 566],\n ['developers', 1046],\n ['deweese', 1652],\n ['dfsa', 1873],\n ['diamond', 1311],\n ['diamondhead', 1501],\n ['diamonds', 2213],\n ['dibella', 2444],\n ['dice', 274],\n ['dick', 3077],\n ['dicks', 3076],\n ['diddley', 1103],\n ['die', 273],\n ['diebold', 1327],\n ['difc', 2117],\n ['dillinger', 1575],\n ['dillons', 2806],\n ['dimasi', 752],\n ['dimora', 1272],\n ['dine', 2098],\n ['diner', 146],\n ['diners', 766],\n ['dining', 492],\n ['dinning', 509],\n ['dion', 2092],\n ['disanto', 2557],\n ['disco', 640],\n ['discos', 2113],\n ['discotheque', 1241],\n ['discotheques', 639],\n ['disney', 2277],\n ['disney', 2278],\n ['disneyland', 577],\n ['disneyland', 578],\n ['dispensaries', 768],\n ['dispensary', 767],\n ['disreputable', 1792],\n ['distilleries', 2351],\n ['distillery', 1231],\n ['diversion', 936],\n ['divincenzo', 2504],\n ['djezzy', 2179],\n ['dock', 1172],\n ['docks', 1171],\n ['dockside', 618],\n ['dockyard', 953],\n ['doctoroff', 1993],\n ['dogfighting', 1857],\n ['dollar', 368],\n ['dollywood', 2893],\n ['domicile', 2921],\n ['donaghy', 1730],\n ['doorkeeper', 726],\n ['doorman', 725],\n ['doormen', 1437],\n ['dormitory', 1283],\n ['dotty', 1654],\n ['doubletree', 733],\n ['down', 260],\n ['down', 262],\n ['downs', 261],\n ['downstate', 1816],\n ['downtown', 922],\n ['downtowns', 2497],\n ['dragway', 699],\n ['dramaturgy', 1423],\n ['drawbridge', 1686],\n ['dreamland', 1702],\n ['dredge', 1560],\n ['dredging', 1090],\n ['dreidel', 1198],\n ['drifter', 2344],\n ['drilling', 2640],\n ['drink', 2878],\n ['drpa', 1084],\n ['druckenmiller', 2757],\n ['drugmaker', 1645],\n ['drugstore', 643],\n ['drunk', 2517],\n ['drunkard', 2516],\n ['drunken', 2409],\n ['drunks', 2518],\n ['drydock', 885],\n ['dubailand', 1004],\n ['duhamel', 1319],\n ['dune', 336],\n ['dunes', 337],\n ['dungeon', 1696],\n ['dungeons', 1695],\n ['dunkin', 2962],\n ['dunst', 1760],\n ['duquesne', 2745],\n ['durano', 1576],\n ['dusk', 2903],\n ['duthie', 1958],\n ['dutrow', 2606],\n ['duva', 1144],\n ['dwan', 1494],\n ['dwek', 1076],\n ['dwelling', 2922],\n ['eastgate', 951],\n ['eateries', 356],\n ['eatery', 256],\n ['ebbers', 2148],\n ['ebt', 1318],\n ['echelon', 1549],\n ['echostar', 1743],\n ['econet', 2276],\n ['economy', 3059],\n ['ecotourism', 1308],\n ['eden', 1451],\n ['edf', 1618],\n ['edgewater', 888],\n ['eilers', 2334],\n ['eis', 2986],\n ['elad', 1950],\n ['eldora', 1477],\n ['eldorado', 1775],\n ['elevator', 2861],\n ['elk', 1819],\n ['elkhorn', 1499],\n ['elko', 1111],\n ['elks', 1818],\n ['elm', 2319],\n ['elmwood', 2320],\n ['elong', 2012],\n ['emaar', 2249],\n ['emachines', 2995],\n ['ember', 1334],\n ['emerald', 2686],\n ['emmetsburg', 2240],\n ['emporium', 1102],\n ['encap', 540],\n ['enclave', 2598],\n ['encore', 923],\n ['end', 650],\n ['enodis', 1221],\n ['ensign', 2747],\n ['entergy', 845],\n ['entertainer', 884],\n ['entertainers', 2174],\n ['entertainment', 154],\n ['eppolito', 1969],\n ['ept', 939],\n ['ergen', 2110],\n ['erpenbach', 2093],\n ['escapist', 2858],\n ['escondida', 2637],\n ['esmark', 742],\n ['esmeralda', 1919],\n ['espeed', 1063],\n ['establishment', 366],\n ['establishments', 367],\n ['estimate', 477],\n ['ethanol', 1145],\n ['euchre', 2024],\n ['eurodollar', 2382],\n ['eurodollar', 2383],\n ['euronet', 1585],\n ['everquest', 1156],\n ['exacta', 2339],\n ['excalibur', 411],\n ['excalibur', 412],\n ['exchange', 1070],\n ['excursion', 897],\n ['exelon', 1218],\n ['expressjet', 1382],\n ['expressway', 1486],\n ['extendicare', 2601],\n ['extorted', 3078],\n ['extractive', 2974],\n ['fable', 2958],\n ['fabrication', 2959],\n ['facade', 2851],\n ['factional', 3051],\n ['factory', 736],\n ['fairground', 551],\n ['fairgrounds', 624],\n ['fairmont', 1811],\n ['fairplex', 1317],\n ['fairway', 2732],\n ['fairways', 2731],\n ['falcone', 561],\n ['fallout', 1126],\n ['fantan', 1055],\n ['fargodome', 924],\n ['farha', 2956],\n ['fastball', 2195],\n ['fastracks', 1711],\n ['fasulo', 1393],\n ['fawell', 542],\n ['feasting', 861],\n ['federici', 2928],\n ['fedexforum', 2393],\n ['feedlot', 1636],\n ['feigenbaum', 1843],\n ['femtometer', 2542],\n ['fermi', 2541],\n ['fermi', 2543],\n ['fernwood', 1242],\n ['ferries', 2603],\n ['ferrovial', 1657],\n ['ferrucci', 1433],\n ['ferry', 1681],\n ['fertitta', 196],\n ['fevola', 2819],\n ['fiat', 2724],\n ['ficano', 573],\n ['field', 1421],\n ['fieldhouse', 3034],\n ['filippi', 2658],\n ['film', 1372],\n ['finish', 2705],\n ['fiore', 3026],\n ['fios', 2256],\n ['firehouse', 2664],\n ['firework', 762],\n ['fisherman', 3055],\n ['fishermen', 3054],\n ['fishery', 1135],\n ['fishing', 460],\n ['fishtown', 543],\n ['fisker', 1698],\n ['flagman', 1150],\n ['flamingo', 117],\n ['flandreau', 958],\n ['flanery', 657],\n ['flashiest', 2957],\n ['flashiness', 712],\n ...]"
     },
     "execution_count": 53,
     "metadata": {},
     "output_type": "execute_result"
    }
   ],
   "source": [
    "# Clean and format the results before writing to a file\n",
    "from formatter import formatResults\n",
    "\n",
    "formattedResults=formatResults(targetWord, similarityResults)\n",
    "\n",
    "# Print to check\n",
    "formattedResults"
   ],
   "metadata": {
    "collapsed": false,
    "ExecuteTime": {
     "end_time": "2024-03-02T02:36:53.613144Z",
     "start_time": "2024-03-02T02:36:53.380410Z"
    }
   },
   "id": "d9beb45569267038",
   "execution_count": 53
  },
  {
   "cell_type": "code",
   "outputs": [
    {
     "name": "stdout",
     "output_type": "stream",
     "text": [
      "Writing to file ../server/src/main/resources/games/9-casino.txt with 3110 associations\n"
     ]
    }
   ],
   "source": [
    "import os\n",
    "\n",
    "# Write the results to a file\n",
    "pathToGames=\"../server/src/main/resources/games/\"\n",
    "\n",
    "# Make this unique with a number\n",
    "currentCount = len(os.listdir(pathToGames))\n",
    "finalPath = pathToGames + str(currentCount) + \"-\" + targetWord + \".txt\"\n",
    "with(open(finalPath, 'w+')) as f:\n",
    "    for result in formattedResults:\n",
    "        line = f\"{result[0]},{result[1]}\\n\"\n",
    "        f.write(line)\n",
    "    \n",
    "print(\"Writing to file\",finalPath, \"with\", len(formattedResults), \"associations\")"
   ],
   "metadata": {
    "collapsed": false,
    "ExecuteTime": {
     "end_time": "2024-03-02T02:44:22.266762Z",
     "start_time": "2024-03-02T02:44:22.257528Z"
    }
   },
   "id": "58d0c40e86cab92d",
   "execution_count": 65
  },
  {
   "cell_type": "code",
   "outputs": [],
   "source": [
    "# Next, write a script to search for any given word, with numResults++ as the default\n",
    "# Need to do more validation, given the whacko results I'm seeing too"
   ],
   "metadata": {
    "collapsed": false,
    "ExecuteTime": {
     "end_time": "2024-03-02T02:36:53.797036Z",
     "start_time": "2024-03-02T02:36:53.640367Z"
    }
   },
   "id": "23dd9d734b7c050",
   "execution_count": 55
  }
 ],
 "metadata": {
  "kernelspec": {
   "display_name": "Python 3",
   "language": "python",
   "name": "python3"
  },
  "language_info": {
   "codemirror_mode": {
    "name": "ipython",
    "version": 2
   },
   "file_extension": ".py",
   "mimetype": "text/x-python",
   "name": "python",
   "nbconvert_exporter": "python",
   "pygments_lexer": "ipython2",
   "version": "2.7.6"
  }
 },
 "nbformat": 4,
 "nbformat_minor": 5
}
