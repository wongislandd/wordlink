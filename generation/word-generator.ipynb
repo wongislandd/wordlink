{
 "cells": [
  {
   "cell_type": "code",
   "execution_count": 1,
   "id": "initial_id",
   "metadata": {
    "collapsed": true,
    "ExecuteTime": {
     "end_time": "2024-03-02T02:21:25.364270Z",
     "start_time": "2024-03-02T02:21:22.955189Z"
    }
   },
   "outputs": [],
   "source": [
    "# import modules & set up logging\n",
    "import warnings\n",
    "warnings.filterwarnings(action='ignore', category=UserWarning, module='gensim')\n",
    "\n",
    "from gensim.models.keyedvectors import KeyedVectors\n",
    "\n",
    "import logging\n",
    "logging.basicConfig(format='%(asctime)s : %(levelname)s : %(message)s', level=logging.INFO)"
   ]
  },
  {
   "cell_type": "code",
   "outputs": [
    {
     "name": "stderr",
     "output_type": "stream",
     "text": [
      "2024-03-01 21:21:25,366 : INFO : loading projection weights from ./model.bin.gz\n",
      "2024-03-01 21:22:06,962 : INFO : KeyedVectors lifecycle event {'msg': 'loaded (3000000, 300) matrix of type float32 from ./model.bin.gz', 'binary': True, 'encoding': 'utf8', 'datetime': '2024-03-01T21:22:06.962462', 'gensim': '4.3.2', 'python': '3.10.12 (main, Nov 20 2023, 15:14:05) [GCC 11.4.0]', 'platform': 'Linux-6.6.10-76060610-generic-x86_64-with-glibc2.35', 'event': 'load_word2vec_format'}\n"
     ]
    }
   ],
   "source": [
    "# Load Google's pre-trained Word2Vec model\n",
    "path = './model.bin.gz'\n",
    "model = KeyedVectors.load_word2vec_format(path, binary=True)"
   ],
   "metadata": {
    "collapsed": false,
    "ExecuteTime": {
     "end_time": "2024-03-02T02:22:07.000662Z",
     "start_time": "2024-03-02T02:21:25.365333Z"
    }
   },
   "id": "62936ab3980f8dfe",
   "execution_count": 2
  },
  {
   "cell_type": "code",
   "outputs": [
    {
     "name": "stdout",
     "output_type": "stream",
     "text": [
      "vocab_size: 3000000\n"
     ]
    }
   ],
   "source": [
    "# Check the size of the vocab\n",
    "print(\"vocab_size:\",len(model.key_to_index.keys()))"
   ],
   "metadata": {
    "collapsed": false,
    "ExecuteTime": {
     "end_time": "2024-03-02T02:22:07.005082Z",
     "start_time": "2024-03-02T02:22:07.001919Z"
    }
   },
   "id": "2d6a461f054708b1",
   "execution_count": 3
  },
  {
   "cell_type": "code",
   "outputs": [
    {
     "name": "stderr",
     "output_type": "stream",
     "text": [
      "2024-03-01 21:22:07,521 : INFO : loading projection weights from ./model.bin.gz\n",
      "2024-03-01 21:22:11,244 : INFO : KeyedVectors lifecycle event {'msg': 'loaded (200000, 300) matrix of type float32 from ./model.bin.gz', 'binary': True, 'encoding': 'utf8', 'datetime': '2024-03-01T21:22:11.244812', 'gensim': '4.3.2', 'python': '3.10.12 (main, Nov 20 2023, 15:14:05) [GCC 11.4.0]', 'platform': 'Linux-6.6.10-76060610-generic-x86_64-with-glibc2.35', 'event': 'load_word2vec_format'}\n"
     ]
    }
   ],
   "source": [
    "model = KeyedVectors.load_word2vec_format(path, binary=True, limit=200000)"
   ],
   "metadata": {
    "collapsed": false,
    "ExecuteTime": {
     "end_time": "2024-03-02T02:22:11.696415Z",
     "start_time": "2024-03-02T02:22:07.007746Z"
    }
   },
   "id": "e867e1635bb99afa",
   "execution_count": 4
  },
  {
   "cell_type": "code",
   "outputs": [
    {
     "name": "stdout",
     "output_type": "stream",
     "text": [
      "vocab_size: 200000\n"
     ]
    }
   ],
   "source": [
    "print(\"vocab_size:\",len(model.key_to_index.keys()))"
   ],
   "metadata": {
    "collapsed": false,
    "ExecuteTime": {
     "end_time": "2024-03-02T02:22:11.699939Z",
     "start_time": "2024-03-02T02:22:11.697340Z"
    }
   },
   "id": "60fa5217bc3b176a",
   "execution_count": 5
  },
  {
   "cell_type": "code",
   "outputs": [],
   "source": [
    "# CONFIG -- Define the target word and number of results\n",
    "targetWord = \"keyboard\"\n",
    "numResults = 5000"
   ],
   "metadata": {
    "collapsed": false,
    "ExecuteTime": {
     "end_time": "2024-03-02T02:23:57.605032Z",
     "start_time": "2024-03-02T02:23:57.602427Z"
    }
   },
   "id": "ad932423572c4b53",
   "execution_count": 41
  },
  {
   "cell_type": "code",
   "outputs": [],
   "source": [
    "# Run the model\n",
    "similarityResults=model.most_similar(targetWord,topn=numResults)"
   ],
   "metadata": {
    "collapsed": false,
    "ExecuteTime": {
     "end_time": "2024-03-02T02:23:57.809757Z",
     "start_time": "2024-03-02T02:23:57.686976Z"
    }
   },
   "id": "bccbdaaace3fd164",
   "execution_count": 42
  },
  {
   "cell_type": "code",
   "outputs": [
    {
     "data": {
      "text/plain": "[['abacus', 2637],\n ['aberration', 1494],\n ['abrasion', 1463],\n ['abstracted', 3555],\n ['accelerator', 2214],\n ['accelerometer', 47],\n ['accelerometers', 837],\n ['accent', 1749],\n ['accented', 3241],\n ['accenting', 3321],\n ['accents', 1750],\n ['accompaniment', 400],\n ['accompaniments', 510],\n ['accompanist', 518],\n ['accordion', 276],\n ['accordionist', 419],\n ['accordions', 977],\n ['accountant', 523],\n ['ace', 583],\n ['acer', 1283],\n ['acer', 1284],\n ['ache', 3713],\n ['acid', 412],\n ['acoustic', 369],\n ['acoustical', 2695],\n ['acoustically', 209],\n ['acoustics', 370],\n ['acrobat', 2394],\n ['acrylic', 1728],\n ['acrylics', 2820],\n ['actionscript', 1928],\n ['activesync', 235],\n ['activex', 2745],\n ['actuation', 1660],\n ['actuator', 822],\n ['actuators', 1132],\n ['acuteness', 3690],\n ['adam', 1482],\n ['adapter', 341],\n ['adapters', 3381],\n ['addicting', 3184],\n ['adhesive', 3594],\n ['adjustability', 542],\n ['adjustable', 1559],\n ['adorable', 3402],\n ['adorably', 2499],\n ['aesthetically', 1307],\n ['affair', 2459],\n ['affectation', 1251],\n ['affray', 1450],\n ['aft', 2311],\n ['aggravator', 1083],\n ['agility', 1858],\n ['ai', 3261],\n ['aio', 1186],\n ['aioli', 1652],\n ['aircard', 2488],\n ['airflow', 2407],\n ['airfoil', 1420],\n ['airplay', 488],\n ['airport', 1008],\n ['airy', 2751],\n ['albarn', 1177],\n ['album', 3138],\n ['albums', 3144],\n ['alcove', 1586],\n ['alienware', 2500],\n ['allegro', 3619],\n ['alliteration', 1540],\n ['alphabet', 1545],\n ['alphabets', 1543],\n ['alright', 3693],\n ['alt', 2309],\n ['altimeter', 3135],\n ['alto', 391],\n ['amazon', 3767],\n ['amazon', 3768],\n ['ambidextrous', 133],\n ['ambient', 1909],\n ['amelio', 3624],\n ['amiga', 1156],\n ['amoled', 617],\n ['amp', 271],\n ['ampere', 270],\n ['amplification', 895],\n ['amplifier', 758],\n ['amplifiers', 2436],\n ['amplitude', 2521],\n ['amps', 860],\n ['amstrad', 3595],\n ['anal', 3650],\n ['android', 245],\n ['androids', 1694],\n ['anecdotist', 2269],\n ['angelic', 1606],\n ['angsty', 3663],\n ['angular', 916],\n ['animal', 3585],\n ['animalistic', 3266],\n ['animation', 777],\n ['animations', 780],\n ['animatronics', 3672],\n ['annotate', 1404],\n ['annotation', 1174],\n ['annotations', 1581],\n ['annoyance', 1084],\n ['annoyances', 1085],\n ['annoying', 1125],\n ['annoyingly', 243],\n ['antec', 2207],\n ['antenna', 1690],\n ['anteroom', 2076],\n ['anthemic', 3295],\n ['anus', 2504],\n ['aperture', 1394],\n ['apertures', 1395],\n ['apery', 3049],\n ['apostrophe', 1786],\n ['app', 590],\n ['apparatus', 1501],\n ['appealingly', 2412],\n ['appendage', 3015],\n ['appendages', 3014],\n ['apple', 1742],\n ['apples', 3322],\n ['applescript', 250],\n ['applet', 453],\n ['applets', 663],\n ['appletv', 1566],\n ['appliance', 308],\n ['applicator', 2262],\n ['apps', 722],\n ['arbor', 2596],\n ['arcade', 1468],\n ['archos', 172],\n ['argument', 3277],\n ['aria', 2468],\n ['aries', 1063],\n ['armband', 3617],\n ['armchair', 3143],\n ['armchairs', 3142],\n ['armoire', 1113],\n ['armrest', 91],\n ['armrests', 333],\n ['arpeggio', 162],\n ['arpeggios', 163],\n ['arrangement', 1168],\n ['arranger', 342],\n ['arse', 3786],\n ['arsenic', 3485],\n ['articulation', 1294],\n ['artwork', 433],\n ['ascii', 3191],\n ['ashtray', 1518],\n ['asimo', 2641],\n ['asperity', 3689],\n ['aspire', 2115],\n ['ass', 3487],\n ['asshole', 3785],\n ['assignable', 831],\n ['asus', 266],\n ['asustek', 2317],\n ['asynchronous', 3597],\n ['atom', 3752],\n ['atomizer', 2285],\n ['atonal', 622],\n ['atrix', 126],\n ['attachment', 3273],\n ['attachments', 3272],\n ['attic', 1410],\n ['atx', 2749],\n ['audible', 1629],\n ['audibly', 1235],\n ['audio', 1069],\n ['audiobooks', 3128],\n ['audiologist', 3481],\n ['audiophile', 464],\n ['audiophiles', 455],\n ['audioslave', 3263],\n ['audiovox', 3673],\n ['auditory', 1528],\n ['aural', 861],\n ['auricle', 408],\n ['authentec', 2178],\n ['autofocus', 269],\n ['automaton', 902],\n ['automator', 911],\n ['avatar', 1689],\n ['avatars', 2836],\n ['avchd', 2798],\n ['awesomely', 2300],\n ['awkwardness', 3633],\n ['axl', 3040],\n ['bach', 2817],\n ['bach', 2818],\n ['back', 549],\n ['backbeat', 492],\n ['background', 67],\n ['backlight', 131],\n ['backlighting', 72],\n ['backlit', 54],\n ['backpack', 1365],\n ['backplane', 2869],\n ['backrest', 550],\n ['backspin', 3129],\n ['backsplash', 2376],\n ['backswing', 3153],\n ['bag', 2382],\n ['bagpipe', 1183],\n ['bagpipes', 2797],\n ['bait', 1603],\n ['bajarin', 2489],\n ['ball', 736],\n ['ballad', 1362],\n ['balladeer', 3052],\n ['balladry', 2954],\n ['ballads', 3234],\n ['ballerina', 3086],\n ['balletic', 3464],\n ['ballsy', 3504],\n ['ballyhoo', 1872],\n ['band', 973],\n ['bandleader', 723],\n ['bandmate', 1700],\n ['bandmates', 984],\n ['bandstand', 1101],\n ['bang', 2451],\n ['banister', 1760],\n ['banjo', 147],\n ['banjos', 1230],\n ['bank', 2998],\n ['banner', 3526],\n ['bannister', 1448],\n ['banshee', 2063],\n ['barebones', 832],\n ['baritone', 1418],\n ['baroque', 3668],\n ['baroque', 3669],\n ['barrage', 900],\n ['barrel', 425],\n ['barren', 2343],\n ['barstool', 3712],\n ['bartok', 2652],\n ['bartok', 2653],\n ['baseboard', 725],\n ['baseboards', 726],\n ['bass', 123],\n ['basses', 122],\n ['bassinet', 1824],\n ['bassist', 472],\n ['bassists', 471],\n ['bassline', 401],\n ['bassoon', 141],\n ['batch', 1626],\n ['bathroom', 1076],\n ['bathrooms', 2247],\n ['bathtub', 1185],\n ['baton', 708],\n ['battery', 901],\n ['bayonetta', 2946],\n ['beak', 1055],\n ['beaker', 1668],\n ['beanbag', 2548],\n ['bebop', 1570],\n ['bedroom', 1840],\n ['bedrooms', 3075],\n ['bedsit', 2984],\n ['beefier', 3183],\n ['beep', 732],\n ['beeper', 2392],\n ['beeping', 1656],\n ['beeps', 733],\n ['beethoven', 1601],\n ['beethoven', 1602],\n ['beginner', 2201],\n ['behringer', 1471],\n ['bejeweled', 3249],\n ['belkin', 1510],\n ['bellow', 2876],\n ['bellow', 2877],\n ['bellows', 2875],\n ['belter', 2620],\n ['benchtop', 2564],\n ['bendable', 2580],\n ['benq', 3612],\n ['berklee', 2654],\n ['bezel', 25],\n ['bibliography', 2000],\n ['bicep', 3543],\n ['bicycle', 985],\n ['bidet', 2365],\n ['biechele', 2721],\n ['bill', 2502],\n ['billfold', 1368],\n ['binder', 2084],\n ['binding', 1712],\n ['bindings', 1710],\n ['biofeedback', 3596],\n ['bionic', 2636],\n ['bios', 859],\n ['bioshock', 2110],\n ['biotechnology', 215],\n ['birdbath', 2597],\n ['birdcall', 927],\n ['birdsong', 3588],\n ['birthplace', 2256],\n ['bitlocker', 1437],\n ['bitrate', 2907],\n ['blackberries', 643],\n ['blackberry', 526],\n ['blackberrys', 1480],\n ['blackboard', 469],\n ['blackboards', 1389],\n ['blackjack', 364],\n ['blade', 1224],\n ['blades', 2393],\n ['blaster', 1587],\n ['bleep', 3136],\n ['bleeps', 1863],\n ['blender', 1492],\n ['blessedly', 3242],\n ['blind', 98],\n ['blink', 2448],\n ['blinking', 2447],\n ['blob', 1624],\n ['blobs', 3341],\n ['block', 457],\n ['blocky', 477],\n ['bloglines', 2405],\n ['bloomers', 820],\n ['blower', 692],\n ['bluesy', 585],\n ['bluetooth', 137],\n ['blur', 1017],\n ['blurry', 2871],\n ['bob', 2171],\n ['bobber', 2172],\n ['bobbin', 3552],\n ['bobtail', 1192],\n ['boldness', 3499],\n ['bolt', 512],\n ['bomberman', 3085],\n ['bombshell', 3454],\n ['bonding', 2648],\n ['bone', 507],\n ['bongo', 165],\n ['bongos', 164],\n ['bonnet', 3117],\n ['boo', 1827],\n ['boodle', 1466],\n ['bookcase', 719],\n ['bookcases', 1243],\n ['bookish', 3196],\n ['booklet', 285],\n ['bookmark', 2258],\n ['bookmarks', 2259],\n ['bookshelf', 284],\n ['bookshelves', 2401],\n ['bookworm', 3562],\n ['boombox', 107],\n ['boot', 3374],\n ['bootable', 1077],\n ['booth', 552],\n ['bop', 1571],\n ['bopping', 2385],\n ['bot', 2800],\n ['bots', 2801],\n ['bouncy', 2635],\n ['boundary', 3169],\n ['bowersox', 3236],\n ['boxee', 1565],\n ['boxy', 1417],\n ['bra', 3227],\n ['brahms', 1538],\n ['brahms', 1539],\n ['braille', 883],\n ['braille', 884],\n ['brassiere', 3226],\n ['breadcrumb', 3704],\n ['breadcrumbs', 3703],\n ['breakable', 1950],\n ['breathy', 1699],\n ['briefcase', 1787],\n ['brightness', 926],\n ['brilliance', 2535],\n ['brim', 3303],\n ['brio', 3104],\n ['broadbandaccess', 3126],\n ['broom', 3215],\n ['browse', 501],\n ['browser', 357],\n ['browsers', 1454],\n ['browsing', 502],\n ['brushstrokes', 2181],\n ['buddy', 361],\n ['buffer', 904],\n ['buffet', 1898],\n ['buggy', 1936],\n ['bugle', 3416],\n ['bugler', 1654],\n ['bulge', 2789],\n ['bulkhead', 1691],\n ['bulkier', 1170],\n ['bulky', 1885],\n ['bull', 1018],\n ['bum', 2928],\n ['bumblebee', 1436],\n ['bunco', 1119],\n ['bungie', 2977],\n ['bunnymen', 2518],\n ['burdensomeness', 3536],\n ['busyness', 3008],\n ['butterscotch', 3477],\n ['buttery', 1974],\n ['buttock', 3498],\n ['buttocks', 2632],\n ['button', 20],\n ['buttons', 17],\n ['buzzer', 754],\n ['buzzers', 752],\n ['byte', 1924],\n ['cabin', 3446],\n ['cabinet', 290],\n ['cabinetry', 2560],\n ['cabinets', 2293],\n ['cabinetwork', 2561],\n ['cablecard', 2425],\n ['cadence', 2397],\n ['cadences', 2960],\n ['cadmium', 679],\n ['cafe', 3281],\n ['calculation', 2299],\n ['calculator', 205],\n ['caliper', 892],\n ['calipers', 1508],\n ['calligraphy', 874],\n ['callosity', 1036],\n ['calloused', 1839],\n ['callus', 1034],\n ['calluses', 1035],\n ['cam', 2687],\n ['cam', 2688],\n ['camber', 2999],\n ['camcorder', 275],\n ['camcorders', 2992],\n ['camera', 662],\n ['camerawork', 2472],\n ['campaign', 3781],\n ['candle', 677],\n ['cantilever', 2799],\n ['canvas', 2698],\n ['capacious', 2766],\n ['capaciousness', 3025],\n ['capacitive', 61],\n ['capacitor', 2035],\n ['capella', 3731],\n ['capella', 3732],\n ['captivate', 1386],\n ['car', 1994],\n ['carafe', 3225],\n ['carapace', 1440],\n ['caress', 1099],\n ['caressed', 1934],\n ['caressing', 2266],\n ['carillon', 626],\n ['carrel', 554],\n ['cartoonish', 2457],\n ['cartoony', 804],\n ['cartridge', 828],\n ['casing', 981],\n ['casio', 1987],\n ['cassette', 481],\n ['caster', 2667],\n ['casters', 2668],\n ['castlevania', 1679],\n ['catapult', 969],\n ['catchy', 3019],\n ['cd', 678],\n ['cds', 1841],\n ['celeron', 2123],\n ['cell', 553],\n ['cellist', 421],\n ['cellists', 1128],\n ['cello', 51],\n ['cellos', 435],\n ['cellphone', 1673],\n ['cellphones', 2937],\n ['centrifuge', 3656],\n ['centrino', 3335],\n ['cerebellum', 1893],\n ['cerium', 2671],\n ['ces', 2672],\n ['cetacean', 693],\n ['chain', 566],\n ['chainsaw', 3188],\n ['chalkboard', 470],\n ['chalkboards', 525],\n ['chamberpot', 2526],\n ['chandelier', 2149],\n ['changeable', 3539],\n ['changer', 3177],\n ['chanteuse', 2782],\n ['character', 2843],\n ['characters', 2842],\n ['charger', 280],\n ['charlatans', 2867],\n ['charmingly', 2943],\n ['chassis', 2260],\n ['chasteness', 1932],\n ['chatroulette', 2644],\n ['chattel', 3269],\n ['chatterbox', 3497],\n ['chatterer', 3496],\n ['check', 118],\n ['checkbox', 1292],\n ['cheek', 3502],\n ['cheeks', 3500],\n ['chemise', 2601],\n ['chessboard', 3127],\n ['chew', 1877],\n ['chiffonier', 1800],\n ['child', 1297],\n ['childlike', 2437],\n ['chin', 2944],\n ['chink', 2057],\n ['chintzy', 1930],\n ['chip', 2815],\n ['chipset', 1965],\n ['chirp', 1817],\n ['choir', 1864],\n ['chop', 3479],\n ['chopin', 2673],\n ['chopin', 2674],\n ['chopper', 2046],\n ['chops', 3478],\n ['chopstick', 2004],\n ['chopsticks', 2465],\n ['choral', 3451],\n ['chorale', 3450],\n ['chord', 151],\n ['chords', 150],\n ['choreography', 2370],\n ['chorus', 1239],\n ['choruses', 1240],\n ['chroma', 2968],\n ['chromatic', 414],\n ['chrome', 2177],\n ['chromed', 3313],\n ['chronograph', 3041],\n ['chumby', 256],\n ['chunky', 1155],\n ['chute', 3045],\n ['cinematics', 3717],\n ['cingular', 2358],\n ['cipher', 1533],\n ['circuitry', 878],\n ['civ', 2962],\n ['clack', 2452],\n ['clacking', 1916],\n ['clamshell', 113],\n ['clap', 2453],\n ['clapper', 2795],\n ['clapton', 1054],\n ['clarinet', 132],\n ['clarinetist', 913],\n ['clarinets', 303],\n ['clasp', 1442],\n ['clasps', 1643],\n ['classical', 2993],\n ['classmate', 3305],\n ['classroom', 1447],\n ['classrooms', 3231],\n ['cleat', 3071],\n ['click', 2059],\n ['clickable', 474],\n ['clicker', 115],\n ['clickers', 1048],\n ['clicking', 3678],\n ['clicks', 2614],\n ['clinician', 1635],\n ['clipboard', 570],\n ['clipboards', 2483],\n ['cliq', 1331],\n ['clitoris', 18],\n ['closeness', 2460],\n ['clubface', 2238],\n ['clubhead', 2243],\n ['clumsiness', 3632],\n ['clumsy', 1674],\n ['clunky', 253],\n ['cnet', 1862],\n ['cochlea', 2863],\n ['cock', 1531],\n ['cocker', 3745],\n ['cocking', 1870],\n ['cockney', 1983],\n ['cockney', 1984],\n ['cockpit', 1912],\n ['codec', 2963],\n ['coder', 971],\n ['coders', 3208],\n ['coffee', 3730],\n ['coffeehouse', 3282],\n ['cognitively', 3346],\n ['coil', 194],\n ['colander', 2340],\n ['coldplay', 2473],\n ['coleslaw', 3371],\n ['collapsible', 1724],\n ['coloratura', 2537],\n ['colossus', 1970],\n ['coltrane', 1942],\n ['combo', 1097],\n ['combos', 705],\n ['comdex', 2892],\n ['comeliness', 1277],\n ['comforter', 2912],\n ['comma', 933],\n ['command', 1765],\n ['commands', 2933],\n ['commas', 2784],\n ['commode', 1799],\n ['communicative', 702],\n ['communicator', 2088],\n ['compact', 2402],\n ['compactflash', 751],\n ['compactness', 1943],\n ['compaq', 3516],\n ['compartment', 2086],\n ['compass', 1424],\n ['compatibility', 3106],\n ['complement', 398],\n ['compose', 1350],\n ['composer', 1411],\n ['composing', 497],\n ['composition', 498],\n ['compositional', 1195],\n ['compositions', 1716],\n ['computer', 206],\n ['computers', 1618],\n ['computex', 3547],\n ['computing', 2298],\n ['con', 1118],\n ['concave', 851],\n ['concentration', 1944],\n ['concertgoer', 2216],\n ['concertina', 795],\n ['concertmaster', 814],\n ['concerto', 459],\n ['concertos', 658],\n ['conciliator', 2914],\n ['condenser', 2034],\n ['conductor', 3271],\n ['config', 533],\n ['configurable', 3151],\n ['configuration', 2439],\n ['configuring', 2089],\n ['conga', 620],\n ['congas', 621],\n ['congregation', 2334],\n ['connectedness', 2347],\n ['connection', 1671],\n ['connectivity', 3367],\n ['connector', 1696],\n ['connectors', 1672],\n ['cons', 1120],\n ['conservatory', 1568],\n ['console', 291],\n ['consoles', 2140],\n ['consonant', 824],\n ['consonants', 823],\n ['constitution', 1714],\n ['contact', 1218],\n ['contemplative', 2982],\n ['context', 714],\n ['contour', 3528],\n ['contoured', 598],\n ['contralto', 390],\n ['contraption', 1551],\n ['contraptions', 3255],\n ['control', 521],\n ['controller', 522],\n ['controllers', 2862],\n ['controls', 2079],\n ['controversy', 792],\n ['conversational', 1638],\n ['conversationalist', 3522],\n ['convex', 806],\n ['convict', 1117],\n ['cooker', 2323],\n ['cooktop', 721],\n ['copier', 1429],\n ['copycat', 197],\n ['coquette', 2152],\n ['corbel', 3310],\n ['cord', 706],\n ['corded', 1351],\n ['cordless', 387],\n ['cords', 917],\n ['corkscrew', 1879],\n ['corner', 588],\n ['cornet', 334],\n ['couch', 1144],\n ['countertenor', 389],\n ['countertop', 426],\n ['countertops', 2900],\n ['countrified', 3760],\n ['couple', 774],\n ['coupler', 1705],\n ['coupling', 1704],\n ['covenant', 2403],\n ['coverdale', 3160],\n ['cowbell', 958],\n ['cowhide', 3285],\n ['cpu', 500],\n ['cpus', 1594],\n ['crack', 3158],\n ['crackpot', 3291],\n ['cradle', 2257],\n ['cradles', 2255],\n ['cramped', 3705],\n ['crampon', 3404],\n ['crampons', 3405],\n ['cranium', 2490],\n ['crank', 3292],\n ['crayon', 907],\n ['crayons', 1530],\n ['creak', 1953],\n ['creaks', 1952],\n ['creature', 3584],\n ['crescendo', 1661],\n ['crescendos', 1662],\n ['crevice', 3159],\n ['crib', 2237],\n ['cribbage', 2235],\n ['crick', 2414],\n ['cringle', 3066],\n ['crisp', 2816],\n ['crooner', 3051],\n ['crooning', 3220],\n ['croons', 1590],\n ['crossfire', 854],\n ['crosstalk', 1336],\n ['crossword', 1114],\n ['crosswords', 2220],\n ['crostini', 2410],\n ['crotch', 1685],\n ['crouch', 2346],\n ['crouton', 2442],\n ['croutons', 2441],\n ['crown', 3359],\n ['crt', 3550],\n ['crts', 3475],\n ['crunchy', 1960],\n ['crutch', 3701],\n ['crysis', 1073],\n ['ctrl', 607],\n ['cube', 458],\n ['cubes', 1353],\n ['cubicle', 555],\n ['cubicles', 2917],\n ['cued', 2261],\n ['cueing', 2970],\n ['cuff', 2889],\n ['cuffs', 2890],\n ['cultivator', 2351],\n ['cumbia', 3738],\n ['cunt', 3521],\n ['cupholders', 1091],\n ['curl', 3027],\n ['curl', 3028],\n ['cursive', 742],\n ['cursor', 26],\n ['curvaceous', 3722],\n ['curvature', 3506],\n ['curved', 1868],\n ['customizable', 2662],\n ['customization', 2736],\n ['cut-in', 2225],\n ['cutaway', 2646],\n ['cuteness', 2568],\n ['cuter', 2729],\n ['cutesy', 1726],\n ['cuticle', 1439],\n ['cuticles', 1438],\n ['cutout', 1469],\n ['cutouts', 3517],\n ['cutscene', 2563],\n ['cutscenes', 1037],\n ['cyborg', 3579],\n ['cycle', 1200],\n ['cymbal', 81],\n ['cymbals', 128],\n ['cyrillic', 1782],\n ['d', 880],\n ['dab', 1722],\n ['dad', 2191],\n ['daemon', 870],\n ['dainty', 2808],\n ['dalek', 2426],\n ['damper', 2774],\n ['danceable', 1619],\n ['dancefloor', 1070],\n ['dancer', 2331],\n ['dandy', 3431],\n ['darkroom', 3179],\n ['darmstadtium', 881],\n ['dartboard', 3108],\n ['dashboard', 650],\n ['daw', 319],\n ['daxter', 2541],\n ['deadbolt', 513],\n ['deathmatch', 3699],\n ['debugger', 1246],\n ['debugging', 1820],\n ['debussy', 3556],\n ['debussy', 3557],\n ['deck', 3145],\n ['decoration', 386],\n ['dect', 2918],\n ['deerhoof', 3036],\n ['defrag', 1028],\n ['defragmentation', 2230],\n ['dehumidifier', 1773],\n ['delete', 499],\n ['delightfully', 2703],\n ['dell', 1396],\n ['demo', 2286],\n ['demoed', 403],\n ['demoing', 983],\n ['demonstration', 2287],\n ['denon', 2594],\n ['deschanel', 3443],\n ['desk', 462],\n ['desks', 1220],\n ['desktop', 66],\n ['desktops', 486],\n ['detachable', 298],\n ['detector', 1279],\n ['device', 152],\n ['devices', 976],\n ['devil', 869],\n ['devilishly', 3200],\n ['dexterity', 446],\n ['dexterous', 560],\n ['diagonal', 2314],\n ['diagonally', 1918],\n ['dial', 467],\n ['dialect', 1747],\n ['dialer', 1678],\n ['dialing', 3604],\n ['dialog', 3119],\n ['dialogs', 1762],\n ['dialogue', 1763],\n ['dials', 468],\n ['dialup', 2275],\n ['diaper', 2356],\n ['diaphragm', 372],\n ['dick', 1532],\n ['dictation', 1766],\n ['diction', 3759],\n ['dictionaries', 2694],\n ['dictionary', 1015],\n ['diddley', 3538],\n ['didgeridoo', 1503],\n ['diff', 2213],\n ['diggings', 1217],\n ['digidesign', 1677],\n ['digit', 1372],\n ['digitizer', 60],\n ['digits', 1371],\n ['dildo', 1126],\n ['dimension', 2445],\n ['dimensions', 2446],\n ['diminutive', 1906],\n ['dimmer', 1692],\n ['dimmers', 1693],\n ['dimple', 2740],\n ['dimpled', 1978],\n ['dinky', 1308],\n ['directional', 2032],\n ['directx', 1578],\n ['dirge', 2199],\n ['dis', 3771],\n ['dis', 3772],\n ['disable', 2720],\n ['disables', 2121],\n ['disagreement', 2743],\n ['disc', 527],\n ['discernability', 967],\n ['discography', 1263],\n ['disconnect', 3520],\n ['discretely', 1459],\n ['discs', 843],\n ['disembodied', 1242],\n ['dishwasher', 700],\n ['disk', 528],\n ['diskeeper', 3421],\n ['diskette', 324],\n ['disks', 1058],\n ['dispenser', 3072],\n ['displaylink', 2349],\n ['displayport', 2208],\n ['dissonance', 2742],\n ['dissonant', 953],\n ['distance', 3149],\n ['distinctness', 3687],\n ['distortion', 1493],\n ['distracting', 2856],\n ['distro', 1682],\n ['distros', 1776],\n ['dither', 3631],\n ['ditties', 3647],\n ['ditty', 3646],\n ['diver', 257],\n ['divertimento', 2680],\n ['divider', 1902],\n ['dividers', 1903],\n ['division', 760],\n ['dizzy', 3789],\n ['djing', 3426],\n ['dll', 2658],\n ['dlna', 1649],\n ['dobro', 251],\n ['dock', 1191],\n ['docking', 2860],\n ['docks', 3309],\n ['dolby', 2217],\n ['dolby', 2218],\n ['doll', 1585],\n ['dollhouse', 2364],\n ['dollies', 1584],\n ['dolly', 1583],\n ['dominance', 2081],\n ['dongle', 31],\n ['dongles', 461],\n ['doodad', 317],\n ['doodle', 1488],\n ['doodles', 2924],\n ['doodling', 1253],\n ['doom', 2825],\n ['doorbell', 753],\n ['doorknob', 413],\n ['doorknobs', 1323],\n ['doorstop', 849],\n ['dork', 1745],\n ['dorky', 2014],\n ['dot', 3203],\n ['dots', 3205],\n ['download', 2935],\n ['downloader', 2047],\n ['downloading', 3012],\n ['downloads', 2428],\n ['downside', 3697],\n ['downsides', 3696],\n ['downstairs', 2609],\n ['dpi', 1042],\n ['draftsman', 696],\n ['dramatist', 3356],\n ['drawer', 697],\n ['drawers', 819],\n ['drawstring', 565],\n ['dreamcast', 1138],\n ['dreamweaver', 2730],\n ['dreidel', 1526],\n ['dresser', 835],\n ['dressing', 1711],\n ['drinker', 1702],\n ['drippy', 3006],\n ['driveability', 3166],\n ['drm', 2660],\n ['drobo', 2375],\n ['droid', 208],\n ['droids', 3540],\n ['droning', 3050],\n ['dropbox', 484],\n ['droplet', 1275],\n ['drum', 424],\n ['drummer', 293],\n ['drummers', 940],\n ['drumming', 1982],\n ['drums', 423],\n ['drumstick', 265],\n ['drumsticks', 264],\n ['dryer', 1631],\n ['ds', 879],\n ['dsi', 278],\n ['dsiware', 2664],\n ['dslr', 1049],\n ['dslrs', 1332],\n ['dubstep', 3484],\n ['dude', 3430],\n ['duet', 773],\n ['duets', 1810],\n ['dulcimer', 428],\n ['dumbbell', 1529],\n ['dungeon', 3369],\n ['duo', 772],\n ['duplicator', 1428],\n ['durability', 1405],\n ...]"
     },
     "execution_count": 43,
     "metadata": {},
     "output_type": "execute_result"
    }
   ],
   "source": [
    "# Clean and format the results before writing to a file\n",
    "from formatter import formatResults\n",
    "\n",
    "formattedResults=formatResults(targetWord, similarityResults)\n",
    "\n",
    "# Print to check\n",
    "formattedResults"
   ],
   "metadata": {
    "collapsed": false,
    "ExecuteTime": {
     "end_time": "2024-03-02T02:23:58.007442Z",
     "start_time": "2024-03-02T02:23:57.811545Z"
    }
   },
   "id": "d9beb45569267038",
   "execution_count": 43
  },
  {
   "cell_type": "code",
   "outputs": [
    {
     "name": "stdout",
     "output_type": "stream",
     "text": [
      "Writing to file ../server/src/main/resources/results/keyboard.txt Association size 3790\n"
     ]
    }
   ],
   "source": [
    "# Write the results to a file\n",
    "pathToResults=\"../server/src/main/resources/results/\" + targetWord + \".txt\"\n",
    "with(open(pathToResults, 'w+')) as f:\n",
    "    for result in formattedResults:\n",
    "        line = f\"{result[0]},{result[1]}\\n\"\n",
    "        f.write(line)\n",
    "    \n",
    "print(\"Writing to file\",pathToResults, \"Association size\", len(formattedResults))"
   ],
   "metadata": {
    "collapsed": false,
    "ExecuteTime": {
     "end_time": "2024-03-02T02:23:58.040831Z",
     "start_time": "2024-03-02T02:23:58.008215Z"
    }
   },
   "id": "58d0c40e86cab92d",
   "execution_count": 44
  },
  {
   "cell_type": "code",
   "outputs": [],
   "source": [
    "# Next, write a script to search for any given word, with numResults++ as the default\n",
    "# Need to do more validation, given the whacko results I'm seeing too"
   ],
   "metadata": {
    "collapsed": false,
    "ExecuteTime": {
     "end_time": "2024-03-02T02:23:58.169564Z",
     "start_time": "2024-03-02T02:23:58.042324Z"
    }
   },
   "id": "23dd9d734b7c050",
   "execution_count": 45
  }
 ],
 "metadata": {
  "kernelspec": {
   "display_name": "Python 3",
   "language": "python",
   "name": "python3"
  },
  "language_info": {
   "codemirror_mode": {
    "name": "ipython",
    "version": 2
   },
   "file_extension": ".py",
   "mimetype": "text/x-python",
   "name": "python",
   "nbconvert_exporter": "python",
   "pygments_lexer": "ipython2",
   "version": "2.7.6"
  }
 },
 "nbformat": 4,
 "nbformat_minor": 5
}
