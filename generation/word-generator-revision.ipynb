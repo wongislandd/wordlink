{
 "cells": [
  {
   "cell_type": "code",
   "execution_count": 1,
   "id": "dc8b36a2-cd49-446f-a19f-173a6bd74ac5",
   "metadata": {},
   "outputs": [],
   "source": [
    "%load_ext autoreload\n",
    "%autoreload 2\n",
    "\n",
    "# import modules & set up logging\n",
    "import warnings\n",
    "import gensim\n",
    "from dotenv import load_dotenv\n",
    "import importlib\n",
    "from gensim.models.keyedvectors import KeyedVectors\n",
    "import logging\n",
    "\n",
    "load_dotenv()\n",
    "\n",
    "warnings.filterwarnings(action='ignore', category=UserWarning, module='gensim')\n",
    "logging.basicConfig(format='%(asctime)s : %(levelname)s : %(message)s', level=logging.INFO)\n",
    "logger = logging.getLogger()"
   ]
  },
  {
   "cell_type": "code",
   "execution_count": 2,
   "id": "5f82aac1-4445-445a-857a-0d5681dabe61",
   "metadata": {},
   "outputs": [
    {
     "name": "stderr",
     "output_type": "stream",
     "text": [
      "2024-04-13 15:22:36,514 : INFO : loading projection weights from ./models/model.bin.gz\n",
      "2024-04-13 15:23:13,807 : INFO : KeyedVectors lifecycle event {'msg': 'loaded (3000000, 300) matrix of type float32 from ./models/model.bin.gz', 'binary': True, 'encoding': 'utf8', 'datetime': '2024-04-13T15:23:13.807349', 'gensim': '4.3.2', 'python': '3.10.12 (main, Nov 20 2023, 15:14:05) [GCC 11.4.0]', 'platform': 'Linux-6.6.10-76060610-generic-x86_64-with-glibc2.35', 'event': 'load_word2vec_format'}\n"
     ]
    }
   ],
   "source": [
    "# Setup the model\n",
    "path = './models/model.bin.gz'\n",
    "model = KeyedVectors.load_word2vec_format(path, binary=True)"
   ]
  },
  {
   "cell_type": "code",
   "execution_count": 3,
   "id": "b6c5de1d-7a6e-46b6-bac4-9c4a987cccdd",
   "metadata": {},
   "outputs": [],
   "source": [
    "# CONFIG -- Define the target word and number of results\n",
    "targetWord = \"park\"\n",
    "\n",
    "# Number of associations to try and get for each\n",
    "numResults = 10"
   ]
  },
  {
   "cell_type": "code",
   "execution_count": 4,
   "id": "1910bd9e-247b-40ed-b2ae-73badc304339",
   "metadata": {},
   "outputs": [
    {
     "name": "stdout",
     "output_type": "stream",
     "text": [
      "[('parks', 0.7697824835777283), ('Park', 0.613426685333252), ('superintendent_Dave_Uberuaga', 0.5954588055610657), ('skate_park', 0.5911567211151123), ('parkland', 0.5799823999404907), ('Kohler_Andrae', 0.5719486474990845), ('campground', 0.5696098804473877), ('Taraji_Henson_knocked', 0.5658068060874939), ('Castaway_Cove', 0.5577318668365479), ('skateboard_park', 0.5547470450401306)]\n"
     ]
    }
   ],
   "source": [
    "# Get initial similarity results\n",
    "similarityResults=model.most_similar(targetWord,topn=numResults)\n",
    "print(similarityResults)"
   ]
  },
  {
   "cell_type": "code",
   "execution_count": 6,
   "id": "b019c257-1ce3-4fc8-b268-803a640f870d",
   "metadata": {},
   "outputs": [],
   "source": [
    "# Clean and format the results before writing to a file\n",
    "from formatterrevision import formatResults\n",
    "from resultwriter import write_results"
   ]
  },
  {
   "cell_type": "code",
   "execution_count": 16,
   "id": "5730ca9f-b899-40b0-995d-b49b08c73d86",
   "metadata": {},
   "outputs": [
    {
     "name": "stderr",
     "output_type": "stream",
     "text": [
      "2024-04-13 16:08:57,186 : INFO : Staring with ['parks', 'Park', 'superintendent_Dave_Uberuaga', 'skate_park', 'parkland', 'Kohler_Andrae', 'campground', 'Taraji_Henson_knocked', 'Castaway_Cove', 'skateboard_park']\n",
      "2024-04-13 16:08:57,187 : INFO : Considering parks\n",
      "2024-04-13 16:08:57,188 : INFO : [Validation] parks is the target!\n",
      "2024-04-13 16:08:57,188 : INFO : Considering park\n",
      "2024-04-13 16:08:57,188 : INFO : [Validation] park is the target!\n",
      "2024-04-13 16:08:57,189 : INFO : Considering superintendent_dave_uberuaga\n",
      "2024-04-13 16:08:57,189 : INFO : [Validation] superintendent_dave_uberuaga is not a valid word!\n",
      "2024-04-13 16:08:57,190 : INFO : Considering skate_park\n",
      "2024-04-13 16:08:57,190 : INFO : [Validation] skate_park is not a valid word!\n",
      "2024-04-13 16:08:57,190 : INFO : Considering parkland\n",
      "2024-04-13 16:08:57,191 : INFO : [Validation] parkland is the target!\n",
      "2024-04-13 16:08:57,191 : INFO : Considering kohler_andrae\n",
      "2024-04-13 16:08:57,191 : INFO : [Validation] kohler_andrae is not a valid word!\n",
      "2024-04-13 16:08:57,191 : INFO : Considering campground\n",
      "2024-04-13 16:08:57,401 : INFO : [Word Expansion] From campground discovered: [('campgrounds', 0.7908676266670227), ('Campground', 0.7723672389984131), ('campsite', 0.7513762712478638), ('campsites', 0.7059701681137085), ('KOA_campground', 0.7023937702178955)]\n",
      "2024-04-13 16:08:57,402 : INFO : [Word Expansion] Derived campgrounds from campground\n",
      "2024-04-13 16:08:57,403 : INFO : [Word Expansion] Derived campground from campground\n",
      "2024-04-13 16:08:57,403 : INFO : [Word Expansion] Derived campsite from campground\n",
      "2024-04-13 16:08:57,404 : INFO : [Word Expansion] Derived campsites from campground\n",
      "2024-04-13 16:08:57,404 : INFO : [Word Expansion] Derived koa_campground from campground\n",
      "2024-04-13 16:08:57,405 : INFO : [Validation] koa_campground is not a valid word!\n",
      "2024-04-13 16:08:57,405 : INFO : Considering taraji_henson_knocked\n",
      "2024-04-13 16:08:57,405 : INFO : [Validation] taraji_henson_knocked is not a valid word!\n",
      "2024-04-13 16:08:57,406 : INFO : Considering castaway_cove\n",
      "2024-04-13 16:08:57,406 : INFO : [Validation] castaway_cove is not a valid word!\n",
      "2024-04-13 16:08:57,406 : INFO : Considering skateboard_park\n",
      "2024-04-13 16:08:57,407 : INFO : [Validation] skateboard_park is not a valid word!\n"
     ]
    },
    {
     "name": "stdout",
     "output_type": "stream",
     "text": [
      "[['campground', 4], ['campgrounds', 2], ['campsite', 1], ['campsites', 3], ['park', 0]]\n"
     ]
    }
   ],
   "source": [
    "results = formatResults(targetWord, similarityResults, model, logger)\n",
    "print(results)"
   ]
  },
  {
   "cell_type": "code",
   "execution_count": null,
   "id": "d635d284-daf3-4154-9c0d-df1655759ca4",
   "metadata": {},
   "outputs": [],
   "source": []
  },
  {
   "cell_type": "code",
   "execution_count": null,
   "id": "a29aa5bd-42e0-4934-937b-7a7564505fdd",
   "metadata": {},
   "outputs": [],
   "source": []
  }
 ],
 "metadata": {
  "kernelspec": {
   "display_name": "Python 3 (ipykernel)",
   "language": "python",
   "name": "python3"
  },
  "language_info": {
   "codemirror_mode": {
    "name": "ipython",
    "version": 3
   },
   "file_extension": ".py",
   "mimetype": "text/x-python",
   "name": "python",
   "nbconvert_exporter": "python",
   "pygments_lexer": "ipython3",
   "version": "3.10.12"
  }
 },
 "nbformat": 4,
 "nbformat_minor": 5
}
