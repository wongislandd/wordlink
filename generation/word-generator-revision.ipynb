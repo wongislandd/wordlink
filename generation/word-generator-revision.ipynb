{
 "cells": [
  {
   "cell_type": "code",
   "execution_count": 19,
   "id": "dc8b36a2-cd49-446f-a19f-173a6bd74ac5",
   "metadata": {},
   "outputs": [
    {
     "name": "stdout",
     "output_type": "stream",
     "text": [
      "The autoreload extension is already loaded. To reload it, use:\n",
      "  %reload_ext autoreload\n"
     ]
    }
   ],
   "source": [
    "%load_ext autoreload\n",
    "%autoreload 2\n",
    "\n",
    "# import modules & set up logging\n",
    "import warnings\n",
    "import gensim\n",
    "from dotenv import load_dotenv\n",
    "import importlib\n",
    "from gensim.models.keyedvectors import KeyedVectors\n",
    "import gensim.downloader as api\n",
    "import logging\n",
    "\n",
    "load_dotenv()\n",
    "\n",
    "warnings.filterwarnings(action='ignore', category=UserWarning, module='gensim')\n",
    "logging.basicConfig(format='%(asctime)s : %(levelname)s : %(message)s', level=logging.INFO)\n",
    "logger = logging.getLogger()"
   ]
  },
  {
   "cell_type": "code",
   "execution_count": 20,
   "id": "f87a138d-28e2-4a15-a7d5-91b549282d2c",
   "metadata": {},
   "outputs": [
    {
     "name": "stderr",
     "output_type": "stream",
     "text": [
      "2024-04-21 15:27:22,961 : INFO : loading projection weights from C:\\Users\\cwong/gensim-data\\glove-twitter-25\\glove-twitter-25.gz\n",
      "2024-04-21 15:27:41,892 : INFO : KeyedVectors lifecycle event {'msg': 'loaded (1193514, 25) matrix of type float32 from C:\\\\Users\\\\cwong/gensim-data\\\\glove-twitter-25\\\\glove-twitter-25.gz', 'binary': False, 'encoding': 'utf8', 'datetime': '2024-04-21T15:27:41.892984', 'gensim': '4.3.2', 'python': '3.12.1 (tags/v3.12.1:2305ca5, Dec  7 2023, 22:03:25) [MSC v.1937 64 bit (AMD64)]', 'platform': 'Windows-11-10.0.22631-SP0', 'event': 'load_word2vec_format'}\n"
     ]
    }
   ],
   "source": [
    "model = api.load(\"glove-twitter-25\")  # load glove vectors"
   ]
  },
  {
   "cell_type": "code",
   "execution_count": 21,
   "id": "b6c5de1d-7a6e-46b6-bac4-9c4a987cccdd",
   "metadata": {},
   "outputs": [],
   "source": [
    "# CONFIG -- Define the target word and number of results\n",
    "targetWord = \"park\"\n",
    "\n",
    "# Number of associations to try and get for each\n",
    "numInitialResults = 10"
   ]
  },
  {
   "cell_type": "code",
   "execution_count": 22,
   "id": "1910bd9e-247b-40ed-b2ae-73badc304339",
   "metadata": {},
   "outputs": [
    {
     "name": "stdout",
     "output_type": "stream",
     "text": [
      "[('hall', 0.9456040263175964), ('hill', 0.931787371635437), ('street', 0.9287646412849426), ('square', 0.9126853346824646), ('town', 0.8993399143218994), ('at', 0.8973972201347351), ('south', 0.8878145813941956), ('london', 0.8876434564590454), ('brooklyn', 0.8836460709571838), ('west', 0.8831261396408081)]\n"
     ]
    }
   ],
   "source": [
    "# Get initial similarity results\n",
    "similarityResults=model.most_similar(targetWord,topn=numInitialResults)\n",
    "print(similarityResults[0:10])"
   ]
  },
  {
   "cell_type": "code",
   "execution_count": 26,
   "id": "b019c257-1ce3-4fc8-b268-803a640f870d",
   "metadata": {},
   "outputs": [],
   "source": [
    "# Clean and format the results before writing to a file\n",
    "from formatterrevision import formatResults\n",
    "from resultwriter import write_results"
   ]
  },
  {
   "cell_type": "code",
   "execution_count": 27,
   "id": "5730ca9f-b899-40b0-995d-b49b08c73d86",
   "metadata": {},
   "outputs": [
    {
     "ename": "NameError",
     "evalue": "name 'false' is not defined",
     "output_type": "error",
     "traceback": [
      "\u001b[1;31m---------------------------------------------------------------------------\u001b[0m",
      "\u001b[1;31mNameError\u001b[0m                                 Traceback (most recent call last)",
      "Cell \u001b[1;32mIn[27], line 1\u001b[0m\n\u001b[1;32m----> 1\u001b[0m results \u001b[38;5;241m=\u001b[39m formatResults(targetWord, similarityResults, model, logger, \u001b[43mfalse\u001b[49m)\n\u001b[0;32m      2\u001b[0m write_results(targetWord, [], results, \u001b[38;5;28;01mTrue\u001b[39;00m, \u001b[38;5;124m\"\u001b[39m\u001b[38;5;124mfirst\u001b[39m\u001b[38;5;124m\"\u001b[39m)\n",
      "\u001b[1;31mNameError\u001b[0m: name 'false' is not defined"
     ]
    }
   ],
   "source": [
    "results = formatResults(targetWord, similarityResults, model, logger, False)\n",
    "write_results(targetWord, [], results, True, \"first\")"
   ]
  },
  {
   "cell_type": "code",
   "execution_count": null,
   "id": "d635d284-daf3-4154-9c0d-df1655759ca4",
   "metadata": {},
   "outputs": [],
   "source": []
  },
  {
   "cell_type": "code",
   "execution_count": null,
   "id": "a29aa5bd-42e0-4934-937b-7a7564505fdd",
   "metadata": {},
   "outputs": [],
   "source": []
  }
 ],
 "metadata": {
  "kernelspec": {
   "display_name": "Python 3 (ipykernel)",
   "language": "python",
   "name": "python3"
  },
  "language_info": {
   "codemirror_mode": {
    "name": "ipython",
    "version": 3
   },
   "file_extension": ".py",
   "mimetype": "text/x-python",
   "name": "python",
   "nbconvert_exporter": "python",
   "pygments_lexer": "ipython3",
   "version": "3.12.1"
  }
 },
 "nbformat": 4,
 "nbformat_minor": 5
}
