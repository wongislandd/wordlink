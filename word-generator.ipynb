{
 "cells": [
  {
   "cell_type": "code",
   "execution_count": 27,
   "id": "initial_id",
   "metadata": {
    "collapsed": true,
    "ExecuteTime": {
     "end_time": "2024-03-01T16:12:34.300432Z",
     "start_time": "2024-03-01T16:12:34.296881Z"
    }
   },
   "outputs": [],
   "source": [
    "# import modules & set up logging\n",
    "import warnings\n",
    "warnings.filterwarnings(action='ignore', category=UserWarning, module='gensim')\n",
    "\n",
    "from gensim.models.keyedvectors import KeyedVectors\n",
    "\n",
    "import logging\n",
    "logging.basicConfig(format='%(asctime)s : %(levelname)s : %(message)s', level=logging.INFO)"
   ]
  },
  {
   "cell_type": "code",
   "outputs": [
    {
     "name": "stderr",
     "output_type": "stream",
     "text": [
      "2024-03-01 11:12:34,581 : INFO : loading projection weights from ./model.bin.gz\n"
     ]
    }
   ],
   "source": [
    "# Load Google's pre-trained Word2Vec model\n",
    "path = './model.bin.gz'\n",
    "model = KeyedVectors.load_word2vec_format(path, binary=True)"
   ],
   "metadata": {
    "collapsed": false,
    "is_executing": true,
    "ExecuteTime": {
     "start_time": "2024-03-01T16:12:34.456325Z"
    }
   },
   "id": "62936ab3980f8dfe",
   "execution_count": null
  },
  {
   "cell_type": "code",
   "outputs": [],
   "source": [
    "# Check the size of the vocab\n",
    "print(\"vocab_size:\",len(model.key_to_index.keys()))"
   ],
   "metadata": {
    "collapsed": false,
    "is_executing": true
   },
   "id": "2d6a461f054708b1",
   "execution_count": null
  },
  {
   "cell_type": "code",
   "outputs": [],
   "source": [
    "model = KeyedVectors.load_word2vec_format(path, binary=True, limit=200000)"
   ],
   "metadata": {
    "collapsed": false,
    "is_executing": true
   },
   "id": "e867e1635bb99afa",
   "execution_count": null
  },
  {
   "cell_type": "code",
   "outputs": [],
   "source": [
    "print(\"vocab_size:\",len(model.key_to_index.keys()))"
   ],
   "metadata": {
    "collapsed": false,
    "is_executing": true
   },
   "id": "60fa5217bc3b176a",
   "execution_count": null
  },
  {
   "cell_type": "code",
   "outputs": [],
   "source": [
    "# CONFIG -- Define the target word and number of results\n",
    "targetWord = \"paintbrush\"\n",
    "numResults = 3000"
   ],
   "metadata": {
    "collapsed": false,
    "is_executing": true
   },
   "id": "ad932423572c4b53",
   "execution_count": null
  },
  {
   "cell_type": "code",
   "outputs": [],
   "source": [
    "# Run the model\n",
    "similarityResults=model.most_similar(targetWord,topn=numResults)\n",
    "print(similarityResults)"
   ],
   "metadata": {
    "collapsed": false,
    "is_executing": true
   },
   "id": "bccbdaaace3fd164",
   "execution_count": null
  },
  {
   "cell_type": "code",
   "outputs": [],
   "source": [
    "# Clean and format the results before writing to a file\n",
    "from formatter import formatResults\n",
    "\n",
    "formattedResults=formatResults(targetWord, similarityResults)\n",
    "\n",
    "# Print to check\n",
    "formattedResults"
   ],
   "metadata": {
    "collapsed": false,
    "is_executing": true
   },
   "id": "d9beb45569267038",
   "execution_count": null
  },
  {
   "cell_type": "code",
   "outputs": [],
   "source": [
    "# Write the results to a file\n",
    "pathToResults=\"./results/\" + targetWord + \".txt\"\n",
    "with(open(pathToResults, 'w+')) as f:\n",
    "    f.write(str(formattedResults))\n",
    "    \n",
    "print(\"Writing to file\",pathToResults)"
   ],
   "metadata": {
    "collapsed": false,
    "is_executing": true
   },
   "id": "58d0c40e86cab92d",
   "execution_count": null
  },
  {
   "cell_type": "code",
   "outputs": [],
   "source": [
    "# Next, write a script to search for any given word, with numResults++ as the default\n",
    "# Need to do more validation, given the whacko results I'm seeing too"
   ],
   "metadata": {
    "collapsed": false,
    "is_executing": true
   },
   "id": "23dd9d734b7c050",
   "execution_count": null
  }
 ],
 "metadata": {
  "kernelspec": {
   "display_name": "Python 3",
   "language": "python",
   "name": "python3"
  },
  "language_info": {
   "codemirror_mode": {
    "name": "ipython",
    "version": 2
   },
   "file_extension": ".py",
   "mimetype": "text/x-python",
   "name": "python",
   "nbconvert_exporter": "python",
   "pygments_lexer": "ipython2",
   "version": "2.7.6"
  }
 },
 "nbformat": 4,
 "nbformat_minor": 5
}
